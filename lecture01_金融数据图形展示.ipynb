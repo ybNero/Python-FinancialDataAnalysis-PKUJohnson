{
 "cells": [
  {
   "cell_type": "markdown",
   "metadata": {},
   "source": [
    "# lecture01_金融数据图形展示\n",
    "B站链接：https://www.bilibili.com/watchlater/#/av20727707\n",
    "\n",
    "**几个主要的知识点：**\n",
    "- datatime时间格式的转换\n",
    "- 柱状图、折线图、饼图的常用作图设置"
   ]
  },
  {
   "cell_type": "markdown",
   "metadata": {},
   "source": [
    "## 画GDP的柱状图（1）\n",
    "1. 将数据保存到list数据结构中  `数据来源: 国家统计局网站`"
   ]
  },
  {
   "cell_type": "code",
   "execution_count": 1,
   "metadata": {},
   "outputs": [
    {
     "data": {
      "text/plain": [
       "[2006, 2007, 2008, 2009, 2010, 2011, 2012, 2013, 2014, 2015, 2016, 2017]"
      ]
     },
     "execution_count": 1,
     "metadata": {},
     "output_type": "execute_result"
    }
   ],
   "source": [
    "list_year = []\n",
    "for x in range(2006,2018):\n",
    "    list_year.append(x)\n",
    "list_year"
   ]
  },
  {
   "cell_type": "code",
   "execution_count": 2,
   "metadata": {},
   "outputs": [],
   "source": [
    "list_gdp = [219438.50, 270232.30, 319515.50, \n",
    "            349081.40, 413030.30, 489300.60, 540367.40, \n",
    "           595244.40, 643974.00, 689052.10, \n",
    "           744127.20, 827122.00]"
   ]
  },
  {
   "cell_type": "markdown",
   "metadata": {},
   "source": [
    "2. 使用matplotlib画图"
   ]
  },
  {
   "cell_type": "code",
   "execution_count": 3,
   "metadata": {},
   "outputs": [],
   "source": [
    "import matplotlib.pyplot as plt\n",
    "%matplotlib inline"
   ]
  },
  {
   "cell_type": "code",
   "execution_count": 4,
   "metadata": {},
   "outputs": [
    {
     "data": {
      "image/png": "[encoded data removed]",
      "text/plain": [
       "<Figure size 432x288 with 1 Axes>"
      ]
     },
     "metadata": {
      "needs_background": "light"
     },
     "output_type": "display_data"
    }
   ],
   "source": [
    "# 画柱状图\n",
    "plt.bar(list_year, list_gdp)\n",
    "\n",
    "# 标识标题及坐标轴信息\n",
    "plt.title('gdp amount from 2006 to 2017')\n",
    "plt.xlabel('year')\n",
    "plt.ylabel('gdp amount')\n",
    "\n",
    "plt.show()"
   ]
  },
  {
   "cell_type": "markdown",
   "metadata": {},
   "source": [
    "## 画上证指数折线图"
   ]
  },
  {
   "cell_type": "code",
   "execution_count": 5,
   "metadata": {},
   "outputs": [],
   "source": [
    "import tushare as ts\n",
    "import matplotlib.pyplot as plt\n",
    "import datetime"
   ]
  },
  {
   "cell_type": "code",
   "execution_count": 50,
   "metadata": {
    "scrolled": false
   },
   "outputs": [
    {
     "data": {
      "text/html": [
       "<div>\n",
       "<style scoped>\n",
       "    .dataframe tbody tr th:only-of-type {\n",
       "        vertical-align: middle;\n",
       "    }\n",
       "\n",
       "    .dataframe tbody tr th {\n",
       "        vertical-align: top;\n",
       "    }\n",
       "\n",
       "    .dataframe thead th {\n",
       "        text-align: right;\n",
       "    }\n",
       "</style>\n",
       "<table border=\"1\" class=\"dataframe\">\n",
       "  <thead>\n",
       "    <tr style=\"text-align: right;\">\n",
       "      <th></th>\n",
       "      <th>open</th>\n",
       "      <th>high</th>\n",
       "      <th>close</th>\n",
       "      <th>low</th>\n",
       "      <th>volume</th>\n",
       "      <th>price_change</th>\n",
       "      <th>p_change</th>\n",
       "      <th>ma5</th>\n",
       "      <th>ma10</th>\n",
       "      <th>ma20</th>\n",
       "      <th>v_ma5</th>\n",
       "      <th>v_ma10</th>\n",
       "      <th>v_ma20</th>\n",
       "    </tr>\n",
       "    <tr>\n",
       "      <th>date</th>\n",
       "      <th></th>\n",
       "      <th></th>\n",
       "      <th></th>\n",
       "      <th></th>\n",
       "      <th></th>\n",
       "      <th></th>\n",
       "      <th></th>\n",
       "      <th></th>\n",
       "      <th></th>\n",
       "      <th></th>\n",
       "      <th></th>\n",
       "      <th></th>\n",
       "      <th></th>\n",
       "    </tr>\n",
       "  </thead>\n",
       "  <tbody>\n",
       "    <tr>\n",
       "      <th>2017-10-09</th>\n",
       "      <td>3403.25</td>\n",
       "      <td>3410.17</td>\n",
       "      <td>3374.38</td>\n",
       "      <td>3366.97</td>\n",
       "      <td>1917360.62</td>\n",
       "      <td>25.44</td>\n",
       "      <td>0.76</td>\n",
       "      <td>3350.362</td>\n",
       "      <td>3352.654</td>\n",
       "      <td>3362.748</td>\n",
       "      <td>1523516.70</td>\n",
       "      <td>1691388.70</td>\n",
       "      <td>1937210.16</td>\n",
       "    </tr>\n",
       "    <tr>\n",
       "      <th>2017-10-10</th>\n",
       "      <td>3373.34</td>\n",
       "      <td>3384.03</td>\n",
       "      <td>3382.99</td>\n",
       "      <td>3358.80</td>\n",
       "      <td>1794238.38</td>\n",
       "      <td>8.61</td>\n",
       "      <td>0.26</td>\n",
       "      <td>3358.244</td>\n",
       "      <td>3355.269</td>\n",
       "      <td>3362.682</td>\n",
       "      <td>1617107.18</td>\n",
       "      <td>1679682.85</td>\n",
       "      <td>1918645.61</td>\n",
       "    </tr>\n",
       "    <tr>\n",
       "      <th>2017-10-11</th>\n",
       "      <td>3381.49</td>\n",
       "      <td>3395.78</td>\n",
       "      <td>3388.28</td>\n",
       "      <td>3379.16</td>\n",
       "      <td>1814767.00</td>\n",
       "      <td>5.29</td>\n",
       "      <td>0.16</td>\n",
       "      <td>3366.846</td>\n",
       "      <td>3357.497</td>\n",
       "      <td>3362.826</td>\n",
       "      <td>1693886.68</td>\n",
       "      <td>1668962.89</td>\n",
       "      <td>1894838.57</td>\n",
       "    </tr>\n",
       "    <tr>\n",
       "      <th>2017-10-12</th>\n",
       "      <td>3385.53</td>\n",
       "      <td>3390.20</td>\n",
       "      <td>3386.10</td>\n",
       "      <td>3372.53</td>\n",
       "      <td>1618093.75</td>\n",
       "      <td>-2.18</td>\n",
       "      <td>-0.06</td>\n",
       "      <td>3376.138</td>\n",
       "      <td>3360.326</td>\n",
       "      <td>3363.856</td>\n",
       "      <td>1718616.83</td>\n",
       "      <td>1633323.56</td>\n",
       "      <td>1865183.92</td>\n",
       "    </tr>\n",
       "    <tr>\n",
       "      <th>2017-10-13</th>\n",
       "      <td>3384.49</td>\n",
       "      <td>3395.75</td>\n",
       "      <td>3390.52</td>\n",
       "      <td>3383.24</td>\n",
       "      <td>1399547.62</td>\n",
       "      <td>4.42</td>\n",
       "      <td>0.13</td>\n",
       "      <td>3384.454</td>\n",
       "      <td>3364.125</td>\n",
       "      <td>3365.120</td>\n",
       "      <td>1708801.47</td>\n",
       "      <td>1594044.31</td>\n",
       "      <td>1835958.71</td>\n",
       "    </tr>\n",
       "  </tbody>\n",
       "</table>\n",
       "</div>"
      ],
      "text/plain": [
       "               open     high    close      low      volume  price_change  \\\n",
       "date                                                                       \n",
       "2017-10-09  3403.25  3410.17  3374.38  3366.97  1917360.62         25.44   \n",
       "2017-10-10  3373.34  3384.03  3382.99  3358.80  1794238.38          8.61   \n",
       "2017-10-11  3381.49  3395.78  3388.28  3379.16  1814767.00          5.29   \n",
       "2017-10-12  3385.53  3390.20  3386.10  3372.53  1618093.75         -2.18   \n",
       "2017-10-13  3384.49  3395.75  3390.52  3383.24  1399547.62          4.42   \n",
       "\n",
       "            p_change       ma5      ma10      ma20       v_ma5      v_ma10  \\\n",
       "date                                                                         \n",
       "2017-10-09      0.76  3350.362  3352.654  3362.748  1523516.70  1691388.70   \n",
       "2017-10-10      0.26  3358.244  3355.269  3362.682  1617107.18  1679682.85   \n",
       "2017-10-11      0.16  3366.846  3357.497  3362.826  1693886.68  1668962.89   \n",
       "2017-10-12     -0.06  3376.138  3360.326  3363.856  1718616.83  1633323.56   \n",
       "2017-10-13      0.13  3384.454  3364.125  3365.120  1708801.47  1594044.31   \n",
       "\n",
       "                v_ma20  \n",
       "date                    \n",
       "2017-10-09  1937210.16  \n",
       "2017-10-10  1918645.61  \n",
       "2017-10-11  1894838.57  \n",
       "2017-10-12  1865183.92  \n",
       "2017-10-13  1835958.71  "
      ]
     },
     "execution_count": 50,
     "metadata": {},
     "output_type": "execute_result"
    }
   ],
   "source": [
    "# 使用tushare模块的get_hist_data()方法获取上证指数从2017年10月到2017年12月的历史行情数据：\n",
    "date = ts.get_hist_data('sh',start='2017-10-01',end='2017-12-01').sort_index()\n",
    "date.head()"
   ]
  },
  {
   "cell_type": "code",
   "execution_count": 48,
   "metadata": {
    "scrolled": true
   },
   "outputs": [
    {
     "data": {
      "text/plain": [
       "Index(['2017-10-09', '2017-10-10', '2017-10-11', '2017-10-12', '2017-10-13',\n",
       "       '2017-10-16', '2017-10-17', '2017-10-18', '2017-10-19', '2017-10-20',\n",
       "       '2017-10-23', '2017-10-24', '2017-10-25', '2017-10-26', '2017-10-27',\n",
       "       '2017-10-30', '2017-10-31', '2017-11-01', '2017-11-02', '2017-11-03',\n",
       "       '2017-11-06', '2017-11-07', '2017-11-08', '2017-11-09', '2017-11-10',\n",
       "       '2017-11-13', '2017-11-14', '2017-11-15', '2017-11-16', '2017-11-17',\n",
       "       '2017-11-20', '2017-11-21', '2017-11-22', '2017-11-23', '2017-11-24',\n",
       "       '2017-11-27', '2017-11-28', '2017-11-29', '2017-11-30', '2017-12-01'],\n",
       "      dtype='object', name='date')"
      ]
     },
     "execution_count": 48,
     "metadata": {},
     "output_type": "execute_result"
    }
   ],
   "source": [
    "date.index"
   ]
  },
  {
   "cell_type": "code",
   "execution_count": 44,
   "metadata": {
    "scrolled": true
   },
   "outputs": [],
   "source": [
    "# date['close']"
   ]
  },
  {
   "cell_type": "code",
   "execution_count": 49,
   "metadata": {
    "scrolled": true
   },
   "outputs": [],
   "source": [
    "# datetime数据格式的转换\n",
    "\n",
    "list_tradedate = date.index.tolist()\n",
    "# list_tradeday\n",
    "list_tradedate1 = []\n",
    "for date in list_tradedate:\n",
    "    dt_tradedate = datetime.datetime.strptime(\n",
    "                                str(date), '%Y-%m-%d')\n",
    "    list_tradedate1.append(dt_tradedate)\n"
   ]
  },
  {
   "cell_type": "code",
   "execution_count": 51,
   "metadata": {},
   "outputs": [],
   "source": [
    "list_closeprice = date['close'].tolist()\n",
    "# list_closeprice"
   ]
  },
  {
   "cell_type": "code",
   "execution_count": 62,
   "metadata": {},
   "outputs": [
    {
     "name": "stderr",
     "output_type": "stream",
     "text": [
      "No handles with labels found to put in legend.\n"
     ]
    },
    {
     "data": {
      "image/png": "[encoded data removed]",
      "text/plain": [
       "<Figure size 864x576 with 1 Axes>"
      ]
     },
     "metadata": {
      "needs_background": "light"
     },
     "output_type": "display_data"
    }
   ],
   "source": [
    "# 先确认画框大小，再作图\n",
    "plt.figure(figsize=(12,8))\n",
    "# 画折线图\n",
    "plt.plot(list_tradedate1, list_closeprice)\n",
    "\n",
    "plt.title('Shanghai stock exchange index')\n",
    "plt.xlabel('trade date')\n",
    "plt.ylabel('close price')\n",
    "\n",
    "\n",
    "plt.show()"
   ]
  },
  {
   "cell_type": "markdown",
   "metadata": {},
   "source": [
    "## 画中国2017年GDP的构成饼图"
   ]
  },
  {
   "cell_type": "code",
   "execution_count": 8,
   "metadata": {},
   "outputs": [],
   "source": [
    "# 数据来源：新闻报道\n",
    "gdp_2017 = {\n",
    "    'primary industry' : 65468,\n",
    "    'secondary industry' : 334623,\n",
    "    'tertiary industry' : 427032\n",
    "}"
   ]
  },
  {
   "cell_type": "code",
   "execution_count": 9,
   "metadata": {},
   "outputs": [],
   "source": [
    "# 分别取出 gdp类别列表 和 gdp值列表\n",
    "labels = gdp_2017.keys()\n",
    "values = gdp_2017.values()"
   ]
  },
  {
   "cell_type": "code",
   "execution_count": 13,
   "metadata": {
    "scrolled": true
   },
   "outputs": [
    {
     "data": {
      "image/png": "[encoded data removed]",
      "text/plain": [
       "<Figure size 432x288 with 1 Axes>"
      ]
     },
     "metadata": {},
     "output_type": "display_data"
    }
   ],
   "source": [
    "# plt.figure(figsize-(6,6))\n",
    "\n",
    "# 画饼图\n",
    "# startangle表示饼图的起始角度\n",
    "plt.pie(values,\n",
    "       labels=labels,\n",
    "       autopct='%.1f%%',\n",
    "       startangle=90\n",
    "       )\n",
    "# 设置样式\n",
    "plt.axis('equal')\n",
    "# 显示图例\n",
    "plt.legend()\n",
    "\n",
    "plt.show()"
   ]
  },
  {
   "cell_type": "code",
   "execution_count": null,
   "metadata": {},
   "outputs": [],
   "source": []
  },
  {
   "cell_type": "code",
   "execution_count": null,
   "metadata": {},
   "outputs": [],
   "source": []
  }
 ],
 "metadata": {
  "kernelspec": {
   "display_name": "Python 3",
   "language": "python",
   "name": "python3"
  },
  "language_info": {
   "codemirror_mode": {
    "name": "ipython",
    "version": 3
   },
   "file_extension": ".py",
   "mimetype": "text/x-python",
   "name": "python",
   "nbconvert_exporter": "python",
   "pygments_lexer": "ipython3",
   "version": "3.7.0"
  }
 },
 "nbformat": 4,
 "nbformat_minor": 2
}

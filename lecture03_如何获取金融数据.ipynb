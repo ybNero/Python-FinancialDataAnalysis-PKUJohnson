{
 "cells": [
  {
   "cell_type": "markdown",
   "metadata": {},
   "source": [
    "# lecture03_如何获取金融数据\n",
    "b站链接：https://www.bilibili.com/video/av20727707/?p=5\n",
    "\n",
    "本节重点：\n",
    "- 利用tushare获取金融数据: www.tushare.org\n",
    "- 通过quantos获取金融数据\n",
    "- 通过爬虫获取金融数据\n",
    "- pandas DataFrame的相关知识"
   ]
  },
  {
   "cell_type": "markdown",
   "metadata": {},
   "source": [
    "## 通过tushare获取金融数据"
   ]
  },
  {
   "cell_type": "code",
   "execution_count": 2,
   "metadata": {},
   "outputs": [],
   "source": [
    "import tushare as ts\n",
    "\n",
    "df = ts.get_hist_data(\n",
    "        '600030', \n",
    "        start='2018-01-01', \n",
    "        end='2018-01-31'\n",
    ")"
   ]
  },
  {
   "cell_type": "code",
   "execution_count": 3,
   "metadata": {
    "collapsed": true
   },
   "outputs": [
    {
     "data": {
      "text/html": [
       "<div>\n",
       "<style scoped>\n",
       "    .dataframe tbody tr th:only-of-type {\n",
       "        vertical-align: middle;\n",
       "    }\n",
       "\n",
       "    .dataframe tbody tr th {\n",
       "        vertical-align: top;\n",
       "    }\n",
       "\n",
       "    .dataframe thead th {\n",
       "        text-align: right;\n",
       "    }\n",
       "</style>\n",
       "<table border=\"1\" class=\"dataframe\">\n",
       "  <thead>\n",
       "    <tr style=\"text-align: right;\">\n",
       "      <th></th>\n",
       "      <th>open</th>\n",
       "      <th>high</th>\n",
       "      <th>close</th>\n",
       "      <th>low</th>\n",
       "      <th>volume</th>\n",
       "      <th>price_change</th>\n",
       "      <th>p_change</th>\n",
       "      <th>ma5</th>\n",
       "      <th>ma10</th>\n",
       "      <th>ma20</th>\n",
       "      <th>v_ma5</th>\n",
       "      <th>v_ma10</th>\n",
       "      <th>v_ma20</th>\n",
       "    </tr>\n",
       "    <tr>\n",
       "      <th>date</th>\n",
       "      <th></th>\n",
       "      <th></th>\n",
       "      <th></th>\n",
       "      <th></th>\n",
       "      <th></th>\n",
       "      <th></th>\n",
       "      <th></th>\n",
       "      <th></th>\n",
       "      <th></th>\n",
       "      <th></th>\n",
       "      <th></th>\n",
       "      <th></th>\n",
       "      <th></th>\n",
       "    </tr>\n",
       "  </thead>\n",
       "  <tbody>\n",
       "    <tr>\n",
       "      <th>2018-01-31</th>\n",
       "      <td>21.45</td>\n",
       "      <td>21.70</td>\n",
       "      <td>21.31</td>\n",
       "      <td>20.94</td>\n",
       "      <td>2472534.0</td>\n",
       "      <td>-0.32</td>\n",
       "      <td>-1.48</td>\n",
       "      <td>21.954</td>\n",
       "      <td>21.791</td>\n",
       "      <td>20.668</td>\n",
       "      <td>2652434.90</td>\n",
       "      <td>3008657.20</td>\n",
       "      <td>2506280.92</td>\n",
       "    </tr>\n",
       "    <tr>\n",
       "      <th>2018-01-30</th>\n",
       "      <td>21.91</td>\n",
       "      <td>22.34</td>\n",
       "      <td>21.65</td>\n",
       "      <td>21.53</td>\n",
       "      <td>2451540.0</td>\n",
       "      <td>-0.46</td>\n",
       "      <td>-2.08</td>\n",
       "      <td>22.278</td>\n",
       "      <td>21.755</td>\n",
       "      <td>20.534</td>\n",
       "      <td>3172105.30</td>\n",
       "      <td>3259291.50</td>\n",
       "      <td>2458637.67</td>\n",
       "    </tr>\n",
       "    <tr>\n",
       "      <th>2018-01-29</th>\n",
       "      <td>22.47</td>\n",
       "      <td>22.73</td>\n",
       "      <td>22.12</td>\n",
       "      <td>22.01</td>\n",
       "      <td>2644808.5</td>\n",
       "      <td>-0.22</td>\n",
       "      <td>-0.98</td>\n",
       "      <td>22.204</td>\n",
       "      <td>21.616</td>\n",
       "      <td>20.374</td>\n",
       "      <td>3353126.30</td>\n",
       "      <td>3247210.83</td>\n",
       "      <td>2405724.90</td>\n",
       "    </tr>\n",
       "    <tr>\n",
       "      <th>2018-01-26</th>\n",
       "      <td>22.33</td>\n",
       "      <td>22.74</td>\n",
       "      <td>22.35</td>\n",
       "      <td>22.21</td>\n",
       "      <td>2519975.0</td>\n",
       "      <td>0.02</td>\n",
       "      <td>0.09</td>\n",
       "      <td>22.024</td>\n",
       "      <td>21.348</td>\n",
       "      <td>20.172</td>\n",
       "      <td>3186164.10</td>\n",
       "      <td>3206865.40</td>\n",
       "      <td>2305660.55</td>\n",
       "    </tr>\n",
       "    <tr>\n",
       "      <th>2018-01-25</th>\n",
       "      <td>22.50</td>\n",
       "      <td>22.85</td>\n",
       "      <td>22.34</td>\n",
       "      <td>22.24</td>\n",
       "      <td>3173317.0</td>\n",
       "      <td>-0.58</td>\n",
       "      <td>-2.53</td>\n",
       "      <td>21.812</td>\n",
       "      <td>21.046</td>\n",
       "      <td>19.961</td>\n",
       "      <td>3408204.45</td>\n",
       "      <td>3059471.71</td>\n",
       "      <td>2230712.51</td>\n",
       "    </tr>\n",
       "  </tbody>\n",
       "</table>\n",
       "</div>"
      ],
      "text/plain": [
       "             open   high  close    low     volume  price_change  p_change  \\\n",
       "date                                                                        \n",
       "2018-01-31  21.45  21.70  21.31  20.94  2472534.0         -0.32     -1.48   \n",
       "2018-01-30  21.91  22.34  21.65  21.53  2451540.0         -0.46     -2.08   \n",
       "2018-01-29  22.47  22.73  22.12  22.01  2644808.5         -0.22     -0.98   \n",
       "2018-01-26  22.33  22.74  22.35  22.21  2519975.0          0.02      0.09   \n",
       "2018-01-25  22.50  22.85  22.34  22.24  3173317.0         -0.58     -2.53   \n",
       "\n",
       "               ma5    ma10    ma20       v_ma5      v_ma10      v_ma20  \n",
       "date                                                                    \n",
       "2018-01-31  21.954  21.791  20.668  2652434.90  3008657.20  2506280.92  \n",
       "2018-01-30  22.278  21.755  20.534  3172105.30  3259291.50  2458637.67  \n",
       "2018-01-29  22.204  21.616  20.374  3353126.30  3247210.83  2405724.90  \n",
       "2018-01-26  22.024  21.348  20.172  3186164.10  3206865.40  2305660.55  \n",
       "2018-01-25  21.812  21.046  19.961  3408204.45  3059471.71  2230712.51  "
      ]
     },
     "execution_count": 3,
     "metadata": {},
     "output_type": "execute_result"
    }
   ],
   "source": [
    "df.head()"
   ]
  },
  {
   "cell_type": "markdown",
   "metadata": {},
   "source": [
    "## 通过quantos获取金融数据\n",
    "- 基础数据，主要是一些基础信息，包括证券信息，行业代码，指数信息，交易日历等。\n",
    "- 市场信息，即由市场行情产生的数据，包括实时行情、实时分钟线、历史tick、历史日线、历史分钟线等。\n",
    "- 参考数据，包括股票的复权因子、分红、停复牌、行业分类，指数的成份股，公募基金的净值等。\n",
    "\n",
    "\n",
    "- `通过pip安装jasq`"
   ]
  },
  {
   "cell_type": "code",
   "execution_count": null,
   "metadata": {},
   "outputs": [],
   "source": [
    "# 导入DataApi\n",
    "from jasq.data import  DataApi\n",
    "\n",
    "# 初始化api\n",
    "api = DataApi('tcp://data.quantos.org:8910')\n",
    "\n",
    "# 获取用户名和密码\n",
    "import os\n",
    "user = os.environ.get('QUANTOS_USER')\n",
    "token = os.environ.get('QUANTOS_TOKEN')\n",
    "\n",
    "# 登录\n",
    "info, msg = api.login(user, token)\n",
    "print(info, msg)"
   ]
  },
  {
   "cell_type": "code",
   "execution_count": null,
   "metadata": {},
   "outputs": [],
   "source": [
    "# 查询日收盘价信息\n",
    "df, msg = api.daily(\n",
    "        symbol='399001.SZ',\n",
    "        start_date='2018-02-01',\n",
    "        end_date='2018-02-28',\n",
    "        fields=open,high,low,close\n",
    ")"
   ]
  },
  {
   "cell_type": "code",
   "execution_count": null,
   "metadata": {},
   "outputs": [],
   "source": []
  },
  {
   "cell_type": "markdown",
   "metadata": {},
   "source": [
    "## 通过爬虫获取金融数据\n",
    "- 请求参数\n",
    "- 请求方法：post/get\n",
    "- 返回结果和字符集"
   ]
  },
  {
   "cell_type": "code",
   "execution_count": 4,
   "metadata": {},
   "outputs": [],
   "source": [
    "import requests"
   ]
  },
  {
   "cell_type": "code",
   "execution_count": 5,
   "metadata": {},
   "outputs": [],
   "source": [
    "# 准备好请求的数据\n",
    "URL = 'http://www.chinamoney.com.cn/dqs/rest/dqs-u-fx/RefRateHis'\n",
    "data = {'lang' : 'CN',\n",
    "       'startDateTool' : '13 Mar 2018',\n",
    "       'endDateTool' : '13 Mar 2018',\n",
    "       'currencyCide' : 'USD.CNY'\n",
    "       }"
   ]
  },
  {
   "cell_type": "code",
   "execution_count": 8,
   "metadata": {},
   "outputs": [
    {
     "data": {
      "text/plain": [
       "'{\"head\":{\"version\":\"2.0\",\"provider\":\"CWAP\",\"req_code\":\"\",\"rep_code\":\"200\",\"rep_message\":\"\",\"ts\":1545298988001,\"producer\":\"\",\"tstext\":\"2018-12-20 17:43:08\"},\"data\":{\"currencyList\":[{\"currValue\":\"ALL\",\"currValueDesc\":\"全部\"},{\"currValue\":\"USD.CNY\",\"currValueDesc\":\"USD/CNY\"},{\"currValue\":\"EUR.CNY\",\"currValueDesc\":\"EUR/CNY\"},{\"currValue\":\"JPY.CNY\",\"currValueDesc\":\"100JPY/CNY\"},{\"currValue\":\"GBP.CNY\",\"currValueDesc\":\"GBP/CNY\"}],\"message\":\"\",\"flag\":\"0\",\"endDateTool\":\"13 Mar 2018\",\"startDateTool\":\"13 Mar'"
      ]
     },
     "execution_count": 8,
     "metadata": {},
     "output_type": "execute_result"
    }
   ],
   "source": [
    "# request header\n",
    "USER_AGENT = \"Mozilla/5.0 (Windows NT 10.0; Win64; x64) AppleWebKit/537.36 (KHTML, like Gecko) Chrome/70.0.3538.110 Safari/537.36\"\n",
    "\n",
    "# simulate http request\n",
    "session = requests.Session()\n",
    "session.headers['User-Agent'] = USER_AGENT\n",
    "res = session.get(URL, params=data)\n",
    "if res.status_code != 200:\n",
    "    print('query_error, status_code = ', res.status_code)\n",
    "    \n",
    "# display http response\n",
    "rsp = res.text\n",
    "rsp[:500]"
   ]
  },
  {
   "cell_type": "code",
   "execution_count": 7,
   "metadata": {},
   "outputs": [
    {
     "name": "stdout",
     "output_type": "stream",
     "text": [
      "6.3244\n",
      "7.8006\n",
      "5.9425\n",
      "8.7908\n"
     ]
    }
   ],
   "source": [
    "import json\n",
    "\n",
    "# 载入数据并记录\n",
    "rsp_json = json.loads(rsp)\n",
    "raw_record = rsp_json['records']\n",
    "\n",
    "for record in raw_record:\n",
    "    print(record['rateOf11hour'])"
   ]
  },
  {
   "cell_type": "code",
   "execution_count": 1,
   "metadata": {},
   "outputs": [
    {
     "name": "stderr",
     "output_type": "stream",
     "text": [
      "C:\\ProgramData\\Anaconda3\\lib\\site-packages\\bs4\\__init__.py:179: UserWarning: You provided Unicode markup but also provided a value for from_encoding. Your from_encoding will be ignored.\n",
      "  warnings.warn(\"You provided Unicode markup but also provided a value for from_encoding. Your from_encoding will be ignored.\")\n"
     ]
    }
   ],
   "source": [
    "# 用bs4来解析html网页\n",
    "\n",
    "from bs4 import BeautifulSoup\n",
    "\n",
    "html_doc = \"\"\"\n",
    "        <html><head><title>The Dormouse's story</title></head>\n",
    "        <body>\n",
    "        <a href=\"http://example.com/elsie\" class=\"sister\" id=\"link1\">Elsie</a>,\n",
    "        <a href=\"http://example.com/lacie\" class=\"sister\" id=\"link2\">Lacie</a> and\n",
    "        <a href=\"http://example.com/tillie\" class=\"sister\" id=\"link3\">Tillie</a>;\n",
    "\"\"\"\n",
    "\n",
    "soup = BeautifulSoup(html_doc, 'html.parser', from_encoding='utf-8')"
   ]
  },
  {
   "cell_type": "code",
   "execution_count": 2,
   "metadata": {},
   "outputs": [
    {
     "name": "stdout",
     "output_type": "stream",
     "text": [
      "测试1：获取所有的链接\n",
      "a http://example.com/elsie Elsie\n",
      "a http://example.com/lacie Lacie\n",
      "a http://example.com/tillie Tillie\n"
     ]
    }
   ],
   "source": [
    "print('测试1：获取所有的链接')\n",
    "links = soup.find_all('a')\n",
    "for link in links:\n",
    "    print(link.name, link['href'], link.get_text())"
   ]
  },
  {
   "cell_type": "code",
   "execution_count": 3,
   "metadata": {},
   "outputs": [
    {
     "name": "stdout",
     "output_type": "stream",
     "text": [
      "\n",
      "测试2：获取Lacie的链接\n",
      "a http://example.com/lacie Lacie\n"
     ]
    }
   ],
   "source": [
    "print('\\n测试2：获取Lacie的链接')\n",
    "link_node = soup.find('a', href='http://example.com/lacie')\n",
    "print(link_node.name, link_node['href'], link_node.get_text())"
   ]
  },
  {
   "cell_type": "code",
   "execution_count": null,
   "metadata": {},
   "outputs": [],
   "source": []
  },
  {
   "cell_type": "code",
   "execution_count": null,
   "metadata": {},
   "outputs": [],
   "source": []
  }
 ],
 "metadata": {
  "kernelspec": {
   "display_name": "Python 3",
   "language": "python",
   "name": "python3"
  },
  "language_info": {
   "codemirror_mode": {
    "name": "ipython",
    "version": 3
   },
   "file_extension": ".py",
   "mimetype": "text/x-python",
   "name": "python",
   "nbconvert_exporter": "python",
   "pygments_lexer": "ipython3",
   "version": "3.7.0"
  }
 },
 "nbformat": 4,
 "nbformat_minor": 2
}

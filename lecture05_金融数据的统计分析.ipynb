{
 "cells": [
  {
   "cell_type": "markdown",
   "metadata": {},
   "source": [
    "# lecture05_金融数据的统计分析\n",
    "b站链接：https://www.bilibili.com/video/av20727707/?p=7\n",
    "\n",
    "本节重点：\n",
    "1. 分析HS300股票的市值和PE的统计规律\n",
    "2. 个股日收益率的统计规律研究\n",
    "3. 金融数据分析中的随机数"
   ]
  },
  {
   "cell_type": "markdown",
   "metadata": {},
   "source": [
    "## 分析HS300股票的市值和PE的统计规律\n",
    "### pandas.describe()方法\n",
    "- skew: 偏度\n",
    "- kurt: 峰度\n",
    "\n",
    "### numpy通用方法\n",
    "- np.max / np.mean / np.min\n",
    "- np.sum / np.std / np.median / np.Series.quantile(0,1) 分位数\n",
    "- np.Series.skew() / np.Series.kurt()\n",
    "\n",
    "### 分布情况\n",
    "- 直方图: Series.hist()"
   ]
  },
  {
   "cell_type": "code",
   "execution_count": 1,
   "metadata": {
    "ExecuteTime": {
     "end_time": "2018-12-22T18:25:03.282810Z",
     "start_time": "2018-12-22T18:24:52.917643Z"
    }
   },
   "outputs": [],
   "source": [
    "import tushare as ts\n",
    "\n",
    "# df = ts.get_hist_data(\n",
    "#         '600030', \n",
    "#         start='2018-01-01', \n",
    "#         end='2018-01-31'\n",
    "# )\n",
    "\n",
    "def stock_data(code, start, end):\n",
    "    df = ts.get_hist_data(code, start, end)\n",
    "    return(df)"
   ]
  },
  {
   "cell_type": "code",
   "execution_count": 7,
   "metadata": {
    "ExecuteTime": {
     "end_time": "2018-12-22T18:29:51.647582Z",
     "start_time": "2018-12-22T18:29:51.210580Z"
    }
   },
   "outputs": [
    {
     "data": {
      "text/html": [
       "<div>\n",
       "<style scoped>\n",
       "    .dataframe tbody tr th:only-of-type {\n",
       "        vertical-align: middle;\n",
       "    }\n",
       "\n",
       "    .dataframe tbody tr th {\n",
       "        vertical-align: top;\n",
       "    }\n",
       "\n",
       "    .dataframe thead th {\n",
       "        text-align: right;\n",
       "    }\n",
       "</style>\n",
       "<table border=\"1\" class=\"dataframe\">\n",
       "  <thead>\n",
       "    <tr style=\"text-align: right;\">\n",
       "      <th></th>\n",
       "      <th>open</th>\n",
       "      <th>high</th>\n",
       "      <th>close</th>\n",
       "      <th>low</th>\n",
       "      <th>volume</th>\n",
       "      <th>price_change</th>\n",
       "      <th>p_change</th>\n",
       "      <th>ma5</th>\n",
       "      <th>ma10</th>\n",
       "      <th>ma20</th>\n",
       "      <th>v_ma5</th>\n",
       "      <th>v_ma10</th>\n",
       "      <th>v_ma20</th>\n",
       "    </tr>\n",
       "    <tr>\n",
       "      <th>date</th>\n",
       "      <th></th>\n",
       "      <th></th>\n",
       "      <th></th>\n",
       "      <th></th>\n",
       "      <th></th>\n",
       "      <th></th>\n",
       "      <th></th>\n",
       "      <th></th>\n",
       "      <th></th>\n",
       "      <th></th>\n",
       "      <th></th>\n",
       "      <th></th>\n",
       "      <th></th>\n",
       "    </tr>\n",
       "  </thead>\n",
       "  <tbody>\n",
       "    <tr>\n",
       "      <th>2018-03-22</th>\n",
       "      <td>18.7</td>\n",
       "      <td>19.13</td>\n",
       "      <td>18.78</td>\n",
       "      <td>18.57</td>\n",
       "      <td>1509102.88</td>\n",
       "      <td>0.28</td>\n",
       "      <td>1.51</td>\n",
       "      <td>18.566</td>\n",
       "      <td>18.747</td>\n",
       "      <td>18.481</td>\n",
       "      <td>1181891.61</td>\n",
       "      <td>1225680.18</td>\n",
       "      <td>1282672.8</td>\n",
       "    </tr>\n",
       "  </tbody>\n",
       "</table>\n",
       "</div>"
      ],
      "text/plain": [
       "            open   high  close    low      volume  price_change  p_change  \\\n",
       "date                                                                        \n",
       "2018-03-22  18.7  19.13  18.78  18.57  1509102.88          0.28      1.51   \n",
       "\n",
       "               ma5    ma10    ma20       v_ma5      v_ma10     v_ma20  \n",
       "date                                                                   \n",
       "2018-03-22  18.566  18.747  18.481  1181891.61  1225680.18  1282672.8  "
      ]
     },
     "execution_count": 7,
     "metadata": {},
     "output_type": "execute_result"
    }
   ],
   "source": [
    "# 获得HS300指数20180322的成份股\n",
    "code_HS300 = '600030'\n",
    "stock_data(code_HS300, '2018-03-22', '2018-03-22')"
   ]
  },
  {
   "cell_type": "code",
   "execution_count": null,
   "metadata": {},
   "outputs": [],
   "source": [
    "# 获得HS300成份股的日估值数据\n",
    "stock_data(code_HS300, '2018-03-22', '2018-03-28')"
   ]
  },
  {
   "cell_type": "code",
   "execution_count": null,
   "metadata": {},
   "outputs": [],
   "source": []
  },
  {
   "cell_type": "code",
   "execution_count": null,
   "metadata": {},
   "outputs": [],
   "source": []
  },
  {
   "cell_type": "markdown",
   "metadata": {},
   "source": [
    "## 个股日收益率的统计规律研究\n",
    "- 几个重要方法\n",
    "        DataFrame.set_index()\n",
    "        DataFrame.dropna()\n",
    "        Series.shift(1)\n",
    "        Series 加减乘除 Series\n",
    "        np.log(Series)"
   ]
  },
  {
   "cell_type": "code",
   "execution_count": 17,
   "metadata": {
    "ExecuteTime": {
     "end_time": "2018-12-22T19:02:51.468903Z",
     "start_time": "2018-12-22T19:02:51.215483Z"
    }
   },
   "outputs": [
    {
     "data": {
      "text/html": [
       "<div>\n",
       "<style scoped>\n",
       "    .dataframe tbody tr th:only-of-type {\n",
       "        vertical-align: middle;\n",
       "    }\n",
       "\n",
       "    .dataframe tbody tr th {\n",
       "        vertical-align: top;\n",
       "    }\n",
       "\n",
       "    .dataframe thead th {\n",
       "        text-align: right;\n",
       "    }\n",
       "</style>\n",
       "<table border=\"1\" class=\"dataframe\">\n",
       "  <thead>\n",
       "    <tr style=\"text-align: right;\">\n",
       "      <th></th>\n",
       "      <th>open</th>\n",
       "      <th>high</th>\n",
       "      <th>close</th>\n",
       "      <th>low</th>\n",
       "      <th>volume</th>\n",
       "      <th>price_change</th>\n",
       "      <th>p_change</th>\n",
       "      <th>ma5</th>\n",
       "      <th>ma10</th>\n",
       "      <th>ma20</th>\n",
       "      <th>v_ma5</th>\n",
       "      <th>v_ma10</th>\n",
       "      <th>v_ma20</th>\n",
       "    </tr>\n",
       "    <tr>\n",
       "      <th>date</th>\n",
       "      <th></th>\n",
       "      <th></th>\n",
       "      <th></th>\n",
       "      <th></th>\n",
       "      <th></th>\n",
       "      <th></th>\n",
       "      <th></th>\n",
       "      <th></th>\n",
       "      <th></th>\n",
       "      <th></th>\n",
       "      <th></th>\n",
       "      <th></th>\n",
       "      <th></th>\n",
       "    </tr>\n",
       "  </thead>\n",
       "  <tbody>\n",
       "    <tr>\n",
       "      <th>2018-03-22</th>\n",
       "      <td>31.28</td>\n",
       "      <td>31.53</td>\n",
       "      <td>31.24</td>\n",
       "      <td>30.56</td>\n",
       "      <td>446275.25</td>\n",
       "      <td>-0.02</td>\n",
       "      <td>-0.06</td>\n",
       "      <td>30.864</td>\n",
       "      <td>30.807</td>\n",
       "      <td>30.745</td>\n",
       "      <td>420914.57</td>\n",
       "      <td>392029.29</td>\n",
       "      <td>467287.14</td>\n",
       "    </tr>\n",
       "    <tr>\n",
       "      <th>2018-03-21</th>\n",
       "      <td>31.28</td>\n",
       "      <td>31.80</td>\n",
       "      <td>31.28</td>\n",
       "      <td>31.12</td>\n",
       "      <td>585145.44</td>\n",
       "      <td>0.29</td>\n",
       "      <td>0.94</td>\n",
       "      <td>30.724</td>\n",
       "      <td>30.774</td>\n",
       "      <td>30.758</td>\n",
       "      <td>380051.48</td>\n",
       "      <td>387902.49</td>\n",
       "      <td>478857.43</td>\n",
       "    </tr>\n",
       "    <tr>\n",
       "      <th>2018-03-20</th>\n",
       "      <td>30.55</td>\n",
       "      <td>31.10</td>\n",
       "      <td>30.97</td>\n",
       "      <td>30.51</td>\n",
       "      <td>382394.59</td>\n",
       "      <td>0.26</td>\n",
       "      <td>0.85</td>\n",
       "      <td>30.548</td>\n",
       "      <td>30.722</td>\n",
       "      <td>30.763</td>\n",
       "      <td>315657.59</td>\n",
       "      <td>413621.39</td>\n",
       "      <td>466347.31</td>\n",
       "    </tr>\n",
       "    <tr>\n",
       "      <th>2018-03-19</th>\n",
       "      <td>30.01</td>\n",
       "      <td>30.74</td>\n",
       "      <td>30.69</td>\n",
       "      <td>29.90</td>\n",
       "      <td>322733.31</td>\n",
       "      <td>0.56</td>\n",
       "      <td>1.86</td>\n",
       "      <td>30.510</td>\n",
       "      <td>30.635</td>\n",
       "      <td>30.759</td>\n",
       "      <td>313928.05</td>\n",
       "      <td>437265.58</td>\n",
       "      <td>487190.96</td>\n",
       "    </tr>\n",
       "    <tr>\n",
       "      <th>2018-03-16</th>\n",
       "      <td>30.57</td>\n",
       "      <td>30.68</td>\n",
       "      <td>30.14</td>\n",
       "      <td>30.10</td>\n",
       "      <td>368024.28</td>\n",
       "      <td>-0.38</td>\n",
       "      <td>-1.25</td>\n",
       "      <td>30.542</td>\n",
       "      <td>30.582</td>\n",
       "      <td>30.727</td>\n",
       "      <td>365728.77</td>\n",
       "      <td>438612.37</td>\n",
       "      <td>514902.61</td>\n",
       "    </tr>\n",
       "  </tbody>\n",
       "</table>\n",
       "</div>"
      ],
      "text/plain": [
       "             open   high  close    low     volume  price_change  p_change  \\\n",
       "date                                                                        \n",
       "2018-03-22  31.28  31.53  31.24  30.56  446275.25         -0.02     -0.06   \n",
       "2018-03-21  31.28  31.80  31.28  31.12  585145.44          0.29      0.94   \n",
       "2018-03-20  30.55  31.10  30.97  30.51  382394.59          0.26      0.85   \n",
       "2018-03-19  30.01  30.74  30.69  29.90  322733.31          0.56      1.86   \n",
       "2018-03-16  30.57  30.68  30.14  30.10  368024.28         -0.38     -1.25   \n",
       "\n",
       "               ma5    ma10    ma20      v_ma5     v_ma10     v_ma20  \n",
       "date                                                                 \n",
       "2018-03-22  30.864  30.807  30.745  420914.57  392029.29  467287.14  \n",
       "2018-03-21  30.724  30.774  30.758  380051.48  387902.49  478857.43  \n",
       "2018-03-20  30.548  30.722  30.763  315657.59  413621.39  466347.31  \n",
       "2018-03-19  30.510  30.635  30.759  313928.05  437265.58  487190.96  \n",
       "2018-03-16  30.542  30.582  30.727  365728.77  438612.37  514902.61  "
      ]
     },
     "execution_count": 17,
     "metadata": {},
     "output_type": "execute_result"
    }
   ],
   "source": [
    "# 查询日收盘价信息\n",
    "# 招商银行600036.SH\n",
    "import pandas as pd\n",
    "df2 = stock_data('600036', '2010-01-01', '2018-03-22')\n",
    "df2.head()"
   ]
  },
  {
   "cell_type": "code",
   "execution_count": 18,
   "metadata": {
    "ExecuteTime": {
     "end_time": "2018-12-22T19:04:11.963540Z",
     "start_time": "2018-12-22T19:04:11.671816Z"
    }
   },
   "outputs": [],
   "source": [
    "# 计算每日的对数收益率\n",
    "change = df2['close'] / df2['close'].shift(1)\n",
    "df2['ret'] = np.log(change)"
   ]
  },
  {
   "cell_type": "code",
   "execution_count": 19,
   "metadata": {
    "ExecuteTime": {
     "end_time": "2018-12-22T19:05:04.993999Z",
     "start_time": "2018-12-22T19:05:04.974150Z"
    },
    "collapsed": true
   },
   "outputs": [
    {
     "name": "stdout",
     "output_type": "stream",
     "text": [
      "             open   high  close    low      volume  price_change  p_change  \\\n",
      "date                                                                         \n",
      "2018-03-21  31.28  31.80  31.28  31.12   585145.44          0.29      0.94   \n",
      "2018-03-20  30.55  31.10  30.97  30.51   382394.59          0.26      0.85   \n",
      "2018-03-19  30.01  30.74  30.69  29.90   322733.31          0.56      1.86   \n",
      "2018-03-16  30.57  30.68  30.14  30.10   368024.28         -0.38     -1.25   \n",
      "2018-03-15  30.21  30.68  30.54  30.21   241959.77          0.15      0.49   \n",
      "2018-03-14  30.57  30.60  30.40  30.21   263176.00         -0.33     -1.07   \n",
      "2018-03-13  30.90  31.38  30.78  30.63   373746.88         -0.06     -0.20   \n",
      "2018-03-12  31.44  31.49  30.85  30.80   581736.94         -0.30     -0.96   \n",
      "2018-03-09  31.20  31.50  31.18  30.98   355100.44          0.26      0.84   \n",
      "2018-03-08  30.85  31.06  30.91  30.41   405007.22          0.14      0.46   \n",
      "2018-03-07  30.50  31.08  30.76  30.35   842334.44          0.72      2.40   \n",
      "2018-03-06  30.39  30.47  30.10  29.49   618836.56         -0.05     -0.17   \n",
      "2018-03-05  30.10  30.58  30.16  29.92   336201.19          0.13      0.43   \n",
      "2018-03-02  30.12  30.46  30.04  30.02   338759.97         -0.36     -1.18   \n",
      "2018-03-01  30.03  30.86  30.42  30.01   402769.62          0.12      0.40   \n",
      "2018-02-28  30.38  30.75  30.29  30.01   532577.06         -0.58     -1.88   \n",
      "2018-02-27  31.57  31.65  30.85  30.65   715338.19         -0.66     -2.10   \n",
      "2018-02-26  31.89  32.35  31.50  31.23   718618.12         -0.28     -0.88   \n",
      "2018-02-23  31.50  32.10  31.79  31.22   515007.53          0.29      0.92   \n",
      "2018-02-22  31.88  32.20  31.51  31.18   677681.06          0.14      0.45   \n",
      "2018-02-14  30.95  31.47  31.38  30.42   334942.94          0.47      1.52   \n",
      "2018-02-13  30.38  31.27  30.88  30.35   799267.75          0.83      2.76   \n",
      "2018-02-12  30.40  30.64  30.05  29.40   876966.19         -0.66     -2.15   \n",
      "2018-02-09  30.33  30.81  30.73  28.60  1327539.75         -0.55     -1.76   \n",
      "2018-02-08  31.95  32.38  31.28  30.83  1069829.62         -1.11     -3.43   \n",
      "2018-02-07  34.58  34.93  32.38  32.10  1502882.62         -2.24     -6.47   \n",
      "2018-02-06  34.10  34.69  34.64  33.49  1416913.38         -0.25     -0.72   \n",
      "2018-02-05  33.83  35.11  34.90  33.80   743285.94          0.40      1.16   \n",
      "2018-02-02  34.04  34.58  34.53  33.69   494732.06          0.08      0.23   \n",
      "2018-02-01  34.05  34.92  34.47  33.85   692849.62          0.53      1.56   \n",
      "...           ...    ...    ...    ...         ...           ...       ...   \n",
      "2016-08-02  17.21  17.25  17.16  17.12    98296.28         -0.02     -0.12   \n",
      "2016-08-01  17.15  17.24  17.18  17.10   198993.06          0.02      0.12   \n",
      "2016-07-29  17.15  17.23  17.17  17.04   121918.55          0.03      0.17   \n",
      "2016-07-28  17.19  17.29  17.17  17.09   196313.62         -0.20     -1.15   \n",
      "2016-07-27  17.20  17.38  17.37  16.89   321172.97          0.20      1.17   \n",
      "2016-07-26  17.05  17.20  17.17  17.05   117382.63          0.05      0.29   \n",
      "2016-07-25  17.09  17.18  17.13  17.01    81010.64          0.05      0.29   \n",
      "2016-07-22  17.25  17.25  17.08  17.03   100294.23         -0.16     -0.93   \n",
      "2016-07-21  17.07  17.27  17.25  17.07   146024.27          0.18      1.05   \n",
      "2016-07-20  17.10  17.14  17.06  17.02   117151.76         -0.06     -0.35   \n",
      "2016-07-19  17.26  17.33  17.12  17.09   139797.88         -0.14     -0.81   \n",
      "2016-07-18  17.15  17.49  17.25  17.13   246652.03          0.11      0.64   \n",
      "2016-07-15  17.08  17.17  17.15  17.08   110715.20          0.06      0.35   \n",
      "2016-07-14  17.07  17.16  17.08  17.00   126895.32          0.03      0.18   \n",
      "2016-07-13  17.13  17.39  17.06  17.02   288970.03          0.04      0.23   \n",
      "2016-07-12  17.48  17.75  17.73  17.46   254320.38          0.25      1.43   \n",
      "2016-07-11  17.49  17.55  17.48  17.40   160141.59          0.09      0.52   \n",
      "2016-07-08  17.50  17.51  17.39  17.35   152161.45         -0.12     -0.69   \n",
      "2016-07-07  17.41  17.52  17.51  17.35   152674.55          0.09      0.52   \n",
      "2016-07-06  17.53  17.54  17.40  17.31   207506.17         -0.16     -0.91   \n",
      "2016-07-05  17.79  17.79  17.56  17.45   186122.88         -0.16     -0.90   \n",
      "2016-07-04  17.63  17.92  17.72  17.63   177033.19          0.09      0.51   \n",
      "2016-07-01  17.50  17.66  17.63  17.49   109878.43          0.13      0.74   \n",
      "2016-06-30  17.47  17.55  17.49  17.39   175404.55          0.04      0.23   \n",
      "2016-06-29  17.31  17.49  17.47  17.27   216735.73          0.18      1.04   \n",
      "2016-06-28  17.25  17.32  17.29  17.21   130116.44          0.01      0.06   \n",
      "2016-06-27  17.25  17.33  17.28  17.18   195077.06          0.03      0.17   \n",
      "2016-06-24  17.26  17.38  17.25  17.18   608599.19         -0.01     -0.06   \n",
      "2016-06-23  17.52  17.53  17.30  17.24   160611.33         -0.20     -1.14   \n",
      "2016-06-22  17.50  17.60  17.52  17.46   100672.80         -0.02     -0.11   \n",
      "\n",
      "               ma5    ma10    ma20       v_ma5     v_ma10     v_ma20       ret  \n",
      "date                                                                            \n",
      "2018-03-21  30.724  30.774  30.758   380051.48  387902.49  478857.43  0.001280  \n",
      "2018-03-20  30.548  30.722  30.763   315657.59  413621.39  466347.31 -0.009960  \n",
      "2018-03-19  30.510  30.635  30.759   313928.05  437265.58  487190.96 -0.009082  \n",
      "2018-03-16  30.542  30.582  30.727   365728.77  438612.37  514902.61 -0.018084  \n",
      "2018-03-15  30.750  30.572  30.756   363144.01  435685.94  562878.38  0.013184  \n",
      "2018-03-14  30.824  30.560  30.793   395753.50  451766.93  604271.87 -0.004595  \n",
      "2018-03-13  30.896  30.549  30.892   511585.18  478707.03  666257.20  0.012423  \n",
      "2018-03-12  30.760  30.556  31.085   560603.12  512866.16  718415.53  0.002272  \n",
      "2018-03-09  30.622  30.621  31.288   511495.97  526554.28  726492.98  0.010640  \n",
      "2018-03-08  30.394  30.682  31.455   508227.88  542544.99  733474.56 -0.008697  \n",
      "2018-03-07  30.296  30.742  31.633   507780.36  569812.37  747866.68 -0.004865  \n",
      "2018-03-06  30.202  30.804  31.793   445828.88  519073.22  738989.67 -0.021690  \n",
      "2018-03-05  30.352  30.882  31.917   465129.21  537116.34  726333.50  0.001991  \n",
      "2018-03-02  30.620  30.871  32.058   541612.59  591192.84  743769.48 -0.003987  \n",
      "2018-03-01  30.970  30.940  32.230   576862.10  690070.82  762165.18  0.012570  \n",
      "2018-02-28  31.188  31.026  32.379   631844.39  756776.82  781478.72 -0.004283  \n",
      "2018-02-27  31.406  31.235  32.557   592317.57  853807.38  813674.04  0.018319  \n",
      "2018-02-26  31.412  31.614  32.718   609103.48  923964.90  821356.88  0.020851  \n",
      "2018-02-23  31.122  31.954  32.803   640773.09  926431.68  832712.45  0.009164  \n",
      "2018-02-22  30.910  32.228  32.839   803279.54  924404.13  849028.52 -0.008847  \n",
      "2018-02-14  30.864  32.524  32.878   881709.25  925920.99  855696.45 -0.004134  \n",
      "2018-02-13  31.064  32.781  32.893  1115297.19  958906.11  890276.62 -0.016062  \n",
      "2018-02-12  31.816  32.951  32.944  1238826.31  915550.65  882954.18 -0.027246  \n",
      "2018-02-09  32.786  33.244  33.038  1212090.26  896346.12  872763.17  0.022377  \n",
      "2018-02-08  33.546  33.519  33.076  1045528.72  834259.54  830753.34  0.017740  \n",
      "2018-02-07  34.184  33.731  33.058   970132.72  806180.61  804299.11  0.034562  \n",
      "2018-02-06  34.498  33.878  32.966   802515.04  773540.71  769119.12  0.067468  \n",
      "2018-02-05  34.086  33.822  32.722   592274.99  718748.86  718207.35  0.007478  \n",
      "2018-02-02  33.702  33.652  32.451   580601.99  738993.22  713971.99 -0.010658  \n",
      "2018-02-01  33.492  33.449  32.230   622990.36  773652.90  713230.80 -0.001739  \n",
      "...            ...     ...     ...         ...        ...        ...       ...  \n",
      "2016-08-02  17.210  17.174  17.246   187338.90  149855.80  166919.63  0.004673  \n",
      "2016-08-01  17.212  17.170  17.266   191156.17  154005.96  171310.96  0.001165  \n",
      "2016-07-29  17.202  17.177  17.293   167559.68  158771.86  170212.97 -0.000582  \n",
      "2016-07-28  17.184  17.175  17.316   163234.82  157651.52  169610.96  0.000000  \n",
      "2016-07-27  17.200  17.166  17.332   153176.95  150709.69  168565.51  0.011581  \n",
      "2016-07-26  17.138  17.135  17.337   112372.71  147489.40  163343.65 -0.011581  \n",
      "2016-07-25  17.128  17.191  17.343   116855.76  161183.17  163980.34 -0.002332  \n",
      "2016-07-22  17.152  17.226  17.350   149984.03  169096.27  169683.66 -0.002923  \n",
      "2016-07-21  17.166  17.257  17.359   152068.23  174282.99  195098.91  0.009904  \n",
      "2016-07-20  17.132  17.283  17.361   148242.44  174948.02  195828.26 -0.011076  \n",
      "2016-07-19  17.132  17.317  17.384   182606.09  183983.46  195004.31  0.003511  \n",
      "2016-07-18  17.254  17.361  17.398   205510.59  188615.96  197909.91  0.007565  \n",
      "2016-07-15  17.300  17.408  17.406   188208.50  181654.08  195202.02 -0.005814  \n",
      "2016-07-14  17.348  17.456  17.421   196497.75  181570.40  200171.83 -0.004090  \n",
      "2016-07-13  17.434  17.497  17.443   201653.60  186421.32  204751.61 -0.001172  \n",
      "2016-07-12  17.502  17.538  17.468   185360.83  179197.89  199137.05  0.038522  \n",
      "2016-07-11  17.468  17.494  17.449   171721.33  166777.50  195195.38 -0.014201  \n",
      "2016-07-08  17.516  17.474  17.447   175099.65  170271.05  197891.83 -0.005162  \n",
      "2016-07-07  17.564  17.460  17.452   166643.04  215914.82  201702.69  0.006877  \n",
      "2016-07-06  17.560  17.439  17.446   171189.04  216708.50  206159.80 -0.006302  \n",
      "2016-07-05  17.574  17.451  17.451   173034.96  206025.16  206025.16  0.009153  \n",
      "2016-07-04  17.520  17.439  17.439   161833.67  208236.52  208236.52  0.009070  \n",
      "2016-07-01  17.432  17.404  17.404   165442.44  212136.94  212136.94 -0.005092  \n",
      "2016-06-30  17.356  17.371  17.371   265186.59  226745.30  226745.30 -0.007973  \n",
      "2016-06-29  17.318  17.352  17.352   262227.95  235302.09  235302.09 -0.001144  \n",
      "2016-06-28  17.328  17.328  17.328   239015.36  239015.36  239015.36 -0.010357  \n",
      "2016-06-27  17.338  17.338  17.338   266240.10  266240.10  266240.10 -0.000579  \n",
      "2016-06-24  17.357  17.357  17.357   289961.11  289961.11  289961.11 -0.001738  \n",
      "2016-06-23  17.410  17.410  17.410   130642.07  130642.07  130642.07  0.002894  \n",
      "2016-06-22  17.520  17.520  17.520   100672.80  100672.80  100672.80  0.012637  \n",
      "\n",
      "[427 rows x 14 columns]\n"
     ]
    }
   ],
   "source": [
    "# 删除第一个NA值\n",
    "df2.dropna(inplace=True)\n",
    "print(df2)"
   ]
  },
  {
   "cell_type": "code",
   "execution_count": 20,
   "metadata": {
    "ExecuteTime": {
     "end_time": "2018-12-22T19:07:51.749488Z",
     "start_time": "2018-12-22T19:07:51.740549Z"
    }
   },
   "outputs": [
    {
     "ename": "NameError",
     "evalue": "name 'calc_stat' is not defined",
     "output_type": "error",
     "traceback": [
      "\u001b[1;31m---------------------------------------------------------------------------\u001b[0m",
      "\u001b[1;31mNameError\u001b[0m                                 Traceback (most recent call last)",
      "\u001b[1;32m<ipython-input-20-c9fa5439a2f3>\u001b[0m in \u001b[0;36m<module>\u001b[1;34m()\u001b[0m\n\u001b[0;32m      1\u001b[0m \u001b[1;31m# 计算日收益率的统计规律\u001b[0m\u001b[1;33m\u001b[0m\u001b[1;33m\u001b[0m\u001b[0m\n\u001b[1;32m----> 2\u001b[1;33m \u001b[0mcalc_stat\u001b[0m\u001b[1;33m(\u001b[0m\u001b[1;34m'return on 600036'\u001b[0m\u001b[1;33m,\u001b[0m \u001b[0mdf2\u001b[0m\u001b[1;33m[\u001b[0m\u001b[1;34m'ret'\u001b[0m\u001b[1;33m]\u001b[0m\u001b[1;33m)\u001b[0m\u001b[1;33m\u001b[0m\u001b[0m\n\u001b[0m",
      "\u001b[1;31mNameError\u001b[0m: name 'calc_stat' is not defined"
     ]
    }
   ],
   "source": [
    "# 计算日收益率的统计规律\n",
    "# calc_stat('return on 600036', df2['ret'])"
   ]
  },
  {
   "cell_type": "code",
   "execution_count": 24,
   "metadata": {
    "ExecuteTime": {
     "end_time": "2018-12-22T19:11:13.782974Z",
     "start_time": "2018-12-22T19:11:13.505712Z"
    }
   },
   "outputs": [
    {
     "data": {
      "text/plain": [
       "<matplotlib.axes._subplots.AxesSubplot at 0x12ba0780ef0>"
      ]
     },
     "execution_count": 24,
     "metadata": {},
     "output_type": "execute_result"
    },
    {
     "data": {
      "image/png": "[encoded data removed]",
      "text/plain": [
       "<Figure size 432x288 with 1 Axes>"
      ]
     },
     "metadata": {
      "needs_background": "light"
     },
     "output_type": "display_data"
    }
   ],
   "source": [
    "# normalize return\n",
    "mean = np.mean(df2['ret'])\n",
    "std = np.std(df2['ret'])\n",
    "df2['ret_norm'] = (df2['ret']-mean)/std\n",
    "\n",
    "# 直方图\n",
    "%matplotlib inline\n",
    "df2['ret_norm'].hist(bins=100)\n",
    "\n",
    "# 结论：不然全是正态分布"
   ]
  },
  {
   "cell_type": "markdown",
   "metadata": {},
   "source": [
    "### 正态分布的检验"
   ]
  },
  {
   "cell_type": "code",
   "execution_count": 25,
   "metadata": {
    "ExecuteTime": {
     "end_time": "2018-12-22T19:13:26.755352Z",
     "start_time": "2018-12-22T19:13:21.232691Z"
    }
   },
   "outputs": [],
   "source": [
    "# QQ-plot图\n",
    "import scipy.stats as stats\n",
    "import matplotlib.pyplot as plt"
   ]
  },
  {
   "cell_type": "code",
   "execution_count": 26,
   "metadata": {
    "ExecuteTime": {
     "end_time": "2018-12-22T19:14:43.227345Z",
     "start_time": "2018-12-22T19:14:43.097344Z"
    }
   },
   "outputs": [
    {
     "data": {
      "text/plain": [
       "((array([-2.9436222 , -2.65743268, -2.49618611, -2.38168756, -2.29186642,\n",
       "         -2.21743774, -2.15358115, -2.09746001, -2.04725846, -2.00174137,\n",
       "         -1.96002905, -1.92147195, -1.88557628, -1.85195757, -1.82031034,\n",
       "         -1.79038776, -1.76198733, -1.73494088, -1.70910707, -1.68436599,\n",
       "         -1.66061498, -1.63776541, -1.61574027, -1.59447216, -1.57390177,\n",
       "         -1.55397659, -1.53464993, -1.51588006, -1.49762956, -1.47986468,\n",
       "         -1.46255493, -1.44567263, -1.4291926 , -1.41309183, -1.39734927,\n",
       "         -1.3819456 , -1.36686302, -1.35208512, -1.33759674, -1.32338383,\n",
       "         -1.30943333, -1.29573312, -1.28227188, -1.26903907, -1.25602483,\n",
       "         -1.2432199 , -1.23061565, -1.21820392, -1.20597707, -1.1939279 ,\n",
       "         -1.18204962, -1.17033582, -1.15878044, -1.14737775, -1.13612232,\n",
       "         -1.12500902, -1.11403294, -1.10318947, -1.09247418, -1.08188287,\n",
       "         -1.07141156, -1.06105643, -1.05081384, -1.04068033, -1.03065256,\n",
       "         -1.02072738, -1.01090175, -1.00117275, -0.9915376 , -0.98199364,\n",
       "         -0.9725383 , -0.96316912, -0.95388373, -0.94467986, -0.93555533,\n",
       "         -0.92650804, -0.91753595, -0.90863712, -0.89980968, -0.89105179,\n",
       "         -0.88236173, -0.87373779, -0.86517835, -0.85668183, -0.84824671,\n",
       "         -0.83987152, -0.83155483, -0.82329526, -0.81509148, -0.80694219,\n",
       "         -0.79884615, -0.79080213, -0.78280895, -0.77486548, -0.76697061,\n",
       "         -0.75912325, -0.75132237, -0.74356694, -0.73585598, -0.72818852,\n",
       "         -0.72056364, -0.71298042, -0.70543798, -0.69793546, -0.69047203,\n",
       "         -0.68304686, -0.67565915, -0.66830814, -0.66099307, -0.6537132 ,\n",
       "         -0.64646781, -0.6392562 , -0.63207768, -0.62493159, -0.61781727,\n",
       "         -0.61073408, -0.6036814 , -0.59665863, -0.58966516, -0.5827004 ,\n",
       "         -0.57576381, -0.5688548 , -0.56197284, -0.5551174 , -0.54828795,\n",
       "         -0.54148397, -0.53470497, -0.52795045, -0.52121994, -0.51451296,\n",
       "         -0.50782904, -0.50116773, -0.49452858, -0.48791116, -0.48131504,\n",
       "         -0.4747398 , -0.46818501, -0.46165028, -0.45513521, -0.4486394 ,\n",
       "         -0.44216246, -0.43570402, -0.4292637 , -0.42284114, -0.41643597,\n",
       "         -0.41004784, -0.40367641, -0.39732131, -0.39098223, -0.38465881,\n",
       "         -0.37835074, -0.37205769, -0.36577934, -0.35951538, -0.35326549,\n",
       "         -0.34702937, -0.34080671, -0.33459723, -0.32840062, -0.32221659,\n",
       "         -0.31604486, -0.30988515, -0.30373717, -0.29760065, -0.29147532,\n",
       "         -0.2853609 , -0.27925713, -0.27316375, -0.2670805 , -0.26100711,\n",
       "         -0.25494334, -0.24888892, -0.24284362, -0.23680718, -0.23077935,\n",
       "         -0.2247599 , -0.21874858, -0.21274515, -0.20674939, -0.20076104,\n",
       "         -0.19477989, -0.1888057 , -0.18283824, -0.17687728, -0.1709226 ,\n",
       "         -0.16497397, -0.15903118, -0.153094  , -0.14716221, -0.14123559,\n",
       "         -0.13531393, -0.12939701, -0.12348462, -0.11757654, -0.11167257,\n",
       "         -0.10577248, -0.09987607, -0.09398314, -0.08809346, -0.08220684,\n",
       "         -0.07632307, -0.07044193, -0.06456324, -0.05868677, -0.05281233,\n",
       "         -0.04693971, -0.04106871, -0.03519913, -0.02933076, -0.02346339,\n",
       "         -0.01759684, -0.01173089, -0.00586534,  0.        ,  0.00586534,\n",
       "          0.01173089,  0.01759684,  0.02346339,  0.02933076,  0.03519913,\n",
       "          0.04106871,  0.04693971,  0.05281233,  0.05868677,  0.06456324,\n",
       "          0.07044193,  0.07632307,  0.08220684,  0.08809346,  0.09398314,\n",
       "          0.09987607,  0.10577248,  0.11167257,  0.11757654,  0.12348462,\n",
       "          0.12939701,  0.13531393,  0.14123559,  0.14716221,  0.153094  ,\n",
       "          0.15903118,  0.16497397,  0.1709226 ,  0.17687728,  0.18283824,\n",
       "          0.1888057 ,  0.19477989,  0.20076104,  0.20674939,  0.21274515,\n",
       "          0.21874858,  0.2247599 ,  0.23077935,  0.23680718,  0.24284362,\n",
       "          0.24888892,  0.25494334,  0.26100711,  0.2670805 ,  0.27316375,\n",
       "          0.27925713,  0.2853609 ,  0.29147532,  0.29760065,  0.30373717,\n",
       "          0.30988515,  0.31604486,  0.32221659,  0.32840062,  0.33459723,\n",
       "          0.34080671,  0.34702937,  0.35326549,  0.35951538,  0.36577934,\n",
       "          0.37205769,  0.37835074,  0.38465881,  0.39098223,  0.39732131,\n",
       "          0.40367641,  0.41004784,  0.41643597,  0.42284114,  0.4292637 ,\n",
       "          0.43570402,  0.44216246,  0.4486394 ,  0.45513521,  0.46165028,\n",
       "          0.46818501,  0.4747398 ,  0.48131504,  0.48791116,  0.49452858,\n",
       "          0.50116773,  0.50782904,  0.51451296,  0.52121994,  0.52795045,\n",
       "          0.53470497,  0.54148397,  0.54828795,  0.5551174 ,  0.56197284,\n",
       "          0.5688548 ,  0.57576381,  0.5827004 ,  0.58966516,  0.59665863,\n",
       "          0.6036814 ,  0.61073408,  0.61781727,  0.62493159,  0.63207768,\n",
       "          0.6392562 ,  0.64646781,  0.6537132 ,  0.66099307,  0.66830814,\n",
       "          0.67565915,  0.68304686,  0.69047203,  0.69793546,  0.70543798,\n",
       "          0.71298042,  0.72056364,  0.72818852,  0.73585598,  0.74356694,\n",
       "          0.75132237,  0.75912325,  0.76697061,  0.77486548,  0.78280895,\n",
       "          0.79080213,  0.79884615,  0.80694219,  0.81509148,  0.82329526,\n",
       "          0.83155483,  0.83987152,  0.84824671,  0.85668183,  0.86517835,\n",
       "          0.87373779,  0.88236173,  0.89105179,  0.89980968,  0.90863712,\n",
       "          0.91753595,  0.92650804,  0.93555533,  0.94467986,  0.95388373,\n",
       "          0.96316912,  0.9725383 ,  0.98199364,  0.9915376 ,  1.00117275,\n",
       "          1.01090175,  1.02072738,  1.03065256,  1.04068033,  1.05081384,\n",
       "          1.06105643,  1.07141156,  1.08188287,  1.09247418,  1.10318947,\n",
       "          1.11403294,  1.12500902,  1.13612232,  1.14737775,  1.15878044,\n",
       "          1.17033582,  1.18204962,  1.1939279 ,  1.20597707,  1.21820392,\n",
       "          1.23061565,  1.2432199 ,  1.25602483,  1.26903907,  1.28227188,\n",
       "          1.29573312,  1.30943333,  1.32338383,  1.33759674,  1.35208512,\n",
       "          1.36686302,  1.3819456 ,  1.39734927,  1.41309183,  1.4291926 ,\n",
       "          1.44567263,  1.46255493,  1.47986468,  1.49762956,  1.51588006,\n",
       "          1.53464993,  1.55397659,  1.57390177,  1.59447216,  1.61574027,\n",
       "          1.63776541,  1.66061498,  1.68436599,  1.70910707,  1.73494088,\n",
       "          1.76198733,  1.79038776,  1.82031034,  1.85195757,  1.88557628,\n",
       "          1.92147195,  1.96002905,  2.00174137,  2.04725846,  2.09746001,\n",
       "          2.15358115,  2.21743774,  2.29186642,  2.38168756,  2.49618611,\n",
       "          2.65743268,  2.9436222 ]),\n",
       "  array([-4.24186856e+00, -3.72002929e+00, -3.65090029e+00, -3.57355007e+00,\n",
       "         -3.02384765e+00, -2.86532259e+00, -2.78351313e+00, -2.67562188e+00,\n",
       "         -2.57764179e+00, -2.49215068e+00, -2.48715275e+00, -2.33053362e+00,\n",
       "         -2.23610064e+00, -1.99033130e+00, -1.95601225e+00, -1.85755848e+00,\n",
       "         -1.79963706e+00, -1.73904264e+00, -1.69217243e+00, -1.66933099e+00,\n",
       "         -1.66615122e+00, -1.61595312e+00, -1.60504238e+00, -1.53365898e+00,\n",
       "         -1.52386250e+00, -1.49555938e+00, -1.46616423e+00, -1.45736965e+00,\n",
       "         -1.43683812e+00, -1.39260419e+00, -1.39003096e+00, -1.38983535e+00,\n",
       "         -1.36586061e+00, -1.34032491e+00, -1.33000907e+00, -1.30811823e+00,\n",
       "         -1.30622644e+00, -1.28804494e+00, -1.26901945e+00, -1.23909462e+00,\n",
       "         -1.23770976e+00, -1.22319060e+00, -1.21082003e+00, -1.15726558e+00,\n",
       "         -1.13119046e+00, -1.12363900e+00, -1.10892135e+00, -1.07660038e+00,\n",
       "         -1.06992631e+00, -1.05987806e+00, -1.04385793e+00, -1.02928992e+00,\n",
       "         -1.01231999e+00, -9.89998753e-01, -9.87852057e-01, -9.82524585e-01,\n",
       "         -9.69636100e-01, -9.60868212e-01, -9.29988594e-01, -9.20077678e-01,\n",
       "         -8.89572819e-01, -8.67039663e-01, -8.62837308e-01, -8.49121642e-01,\n",
       "         -8.35471900e-01, -8.31382504e-01, -8.28157622e-01, -8.23488901e-01,\n",
       "         -7.98658368e-01, -7.97110597e-01, -7.96247777e-01, -7.94338139e-01,\n",
       "         -7.89715124e-01, -7.63298385e-01, -7.56677302e-01, -7.54863012e-01,\n",
       "         -7.53895763e-01, -7.53895763e-01, -7.51247197e-01, -7.39598862e-01,\n",
       "         -7.26187082e-01, -7.24970717e-01, -6.97768180e-01, -6.86872079e-01,\n",
       "         -6.70844272e-01, -6.60094210e-01, -6.52932690e-01, -6.37895570e-01,\n",
       "         -6.30355797e-01, -6.24905299e-01, -6.05456541e-01, -6.04655110e-01,\n",
       "         -6.00116497e-01, -5.77996625e-01, -5.72780008e-01, -5.61995154e-01,\n",
       "         -5.47246111e-01, -5.40358338e-01, -5.21385048e-01, -5.19038304e-01,\n",
       "         -5.15900312e-01, -5.12771637e-01, -5.03233660e-01, -4.93178083e-01,\n",
       "         -4.79040009e-01, -4.72347003e-01, -4.65501815e-01, -4.44522818e-01,\n",
       "         -4.38313566e-01, -4.37758024e-01, -4.36650429e-01, -4.36386803e-01,\n",
       "         -4.16764594e-01, -4.16393943e-01, -4.15397487e-01, -4.12146273e-01,\n",
       "         -4.11608459e-01, -4.09280718e-01, -4.09149250e-01, -4.04720071e-01,\n",
       "         -3.84994804e-01, -3.76834538e-01, -3.61664281e-01, -3.58300164e-01,\n",
       "         -3.48614099e-01, -3.42824506e-01, -3.38204679e-01, -3.34579066e-01,\n",
       "         -3.33906072e-01, -3.32566451e-01, -3.32303581e-01, -3.30866957e-01,\n",
       "         -3.30132293e-01, -3.23633692e-01, -3.21205010e-01, -3.20745627e-01,\n",
       "         -3.07787724e-01, -3.00874646e-01, -2.99528434e-01, -2.99074886e-01,\n",
       "         -2.98601847e-01, -2.83420654e-01, -2.55740851e-01, -2.51032958e-01,\n",
       "         -2.49683811e-01, -2.38004055e-01, -2.35763558e-01, -2.17634025e-01,\n",
       "         -2.12488322e-01, -2.09210688e-01, -2.08374515e-01, -2.06551233e-01,\n",
       "         -2.05666790e-01, -1.96676156e-01, -1.96368508e-01, -1.96061517e-01,\n",
       "         -1.94123202e-01, -1.86705097e-01, -1.83734788e-01, -1.83123303e-01,\n",
       "         -1.76798593e-01, -1.69721312e-01, -1.62415353e-01, -1.57330151e-01,\n",
       "         -1.55637014e-01, -1.54718804e-01, -1.34290114e-01, -1.33037947e-01,\n",
       "         -1.25110421e-01, -1.22817740e-01, -1.08332301e-01, -1.07522409e-01,\n",
       "         -1.05361049e-01, -1.04902990e-01, -9.03113000e-02, -8.78973739e-02,\n",
       "         -8.63859132e-02, -8.54541536e-02, -8.54541536e-02, -8.37105150e-02,\n",
       "         -8.33478157e-02, -8.20901436e-02, -7.74326574e-02, -7.34475022e-02,\n",
       "         -6.97106387e-02, -6.63238328e-02, -6.56817989e-02, -5.84501692e-02,\n",
       "         -5.82012664e-02, -5.79531915e-02, -5.53575027e-02, -5.39368041e-02,\n",
       "         -5.30820997e-02, -4.65675975e-02, -3.32466860e-02, -2.58366281e-02,\n",
       "         -2.57351416e-02, -1.74458449e-02, -1.73292953e-02, -1.48827190e-02,\n",
       "         -1.27574027e-02, -1.19625232e-02,  1.56828282e-03,  1.22792039e-02,\n",
       "          1.24631785e-02,  1.41250283e-02,  1.45476777e-02,  1.55065892e-02,\n",
       "          1.59281968e-02,  1.61372390e-02,  1.63036361e-02,  1.75685499e-02,\n",
       "          1.98988927e-02,  4.14964054e-02,  5.18673259e-02,  5.21161990e-02,\n",
       "          5.34197988e-02,  5.34617475e-02,  5.34826867e-02,  5.38556348e-02,\n",
       "          5.53895468e-02,  5.58730611e-02,  5.63614581e-02,  6.18159729e-02,\n",
       "          6.58701352e-02,  6.61668423e-02,  9.09743355e-02,  9.09743355e-02,\n",
       "          9.09743355e-02,  9.09743355e-02,  9.09743355e-02,  9.09743355e-02,\n",
       "          9.09743355e-02,  9.09743355e-02,  9.09743355e-02,  1.15754372e-01,\n",
       "          1.25587213e-01,  1.26710589e-01,  1.26959489e-01,  1.27172820e-01,\n",
       "          1.27270628e-01,  1.28052055e-01,  1.33071665e-01,  1.40580163e-01,\n",
       "          1.44259770e-01,  1.60146625e-01,  1.60253648e-01,  1.65645035e-01,\n",
       "          1.65811432e-01,  1.69211138e-01,  1.69669467e-01,  1.76919692e-01,\n",
       "          1.96720283e-01,  2.24727358e-01,  2.35108054e-01,  2.35963679e-01,\n",
       "          2.40899146e-01,  2.41066660e-01,  2.42505787e-01,  2.43550747e-01,\n",
       "          2.43937934e-01,  2.69750824e-01,  2.71383488e-01,  2.71577529e-01,\n",
       "          2.75388654e-01,  2.77955570e-01,  2.85377618e-01,  2.96510675e-01,\n",
       "          2.97006053e-01,  3.04766412e-01,  3.07213687e-01,  3.12280260e-01,\n",
       "          3.13011851e-01,  3.26783661e-01,  3.37715106e-01,  3.38000312e-01,\n",
       "          3.44364024e-01,  3.45392394e-01,  3.46151853e-01,  3.50375491e-01,\n",
       "          3.51713355e-01,  3.74227416e-01,  3.75085184e-01,  3.76940865e-01,\n",
       "          3.78933135e-01,  3.85153249e-01,  3.93525690e-01,  4.02892638e-01,\n",
       "          4.04836062e-01,  4.08212703e-01,  4.08212703e-01,  4.08796477e-01,\n",
       "          4.16937005e-01,  4.18501289e-01,  4.19952726e-01,  4.21571987e-01,\n",
       "          4.27907990e-01,  4.28399876e-01,  4.31248964e-01,  4.33175237e-01,\n",
       "          4.37371633e-01,  4.42263249e-01,  4.45976680e-01,  4.46917337e-01,\n",
       "          4.54316806e-01,  4.65369325e-01,  4.71774716e-01,  4.77173505e-01,\n",
       "          5.13405207e-01,  5.13626724e-01,  5.25240636e-01,  5.25378316e-01,\n",
       "          5.40750261e-01,  5.45804457e-01,  5.47372154e-01,  5.49449066e-01,\n",
       "          5.49689926e-01,  5.50898036e-01,  5.52864664e-01,  5.55794787e-01,\n",
       "          5.62573212e-01,  5.62870566e-01,  5.86407573e-01,  5.88362956e-01,\n",
       "          5.88504664e-01,  5.93226738e-01,  5.98439254e-01,  5.99072035e-01,\n",
       "          6.02135761e-01,  6.12512186e-01,  6.21935892e-01,  6.22215865e-01,\n",
       "          6.36305779e-01,  6.38776724e-01,  6.40341383e-01,  6.43483241e-01,\n",
       "          6.78438318e-01,  6.86028391e-01,  7.00196537e-01,  7.05773019e-01,\n",
       "          7.06501578e-01,  7.17495686e-01,  7.20466171e-01,  7.21996872e-01,\n",
       "          7.29049479e-01,  7.32695337e-01,  7.46842094e-01,  7.50550377e-01,\n",
       "          7.56186229e-01,  7.61804253e-01,  7.63389945e-01,  7.71847354e-01,\n",
       "          7.75431563e-01,  7.80389152e-01,  7.82478388e-01,  7.89104645e-01,\n",
       "          8.02254427e-01,  8.05631240e-01,  8.13476900e-01,  8.36072298e-01,\n",
       "          8.68820750e-01,  8.91350865e-01,  9.01318822e-01,  9.05758306e-01,\n",
       "          9.10585326e-01,  9.13886978e-01,  9.16492167e-01,  9.25348881e-01,\n",
       "          9.29690172e-01,  9.31877803e-01,  9.35285457e-01,  9.39726766e-01,\n",
       "          9.55788264e-01,  9.55788264e-01,  9.57353936e-01,  9.76501825e-01,\n",
       "          9.77787947e-01,  9.87534306e-01,  9.89867431e-01,  1.00441456e+00,\n",
       "          1.04483113e+00,  1.05778839e+00,  1.07578142e+00,  1.08164550e+00,\n",
       "          1.09434556e+00,  1.09454479e+00,  1.10162066e+00,  1.11262927e+00,\n",
       "          1.12819771e+00,  1.15123766e+00,  1.15995638e+00,  1.19556815e+00,\n",
       "          1.21732192e+00,  1.23067310e+00,  1.26796520e+00,  1.26842147e+00,\n",
       "          1.28247334e+00,  1.32140197e+00,  1.32835383e+00,  1.35548055e+00,\n",
       "          1.38180752e+00,  1.39453092e+00,  1.42104329e+00,  1.42853994e+00,\n",
       "          1.45123195e+00,  1.48958176e+00,  1.49144485e+00,  1.53352723e+00,\n",
       "          1.59260478e+00,  1.59393521e+00,  1.64049253e+00,  1.64555560e+00,\n",
       "          1.65305142e+00,  1.68799132e+00,  1.72814837e+00,  1.75771711e+00,\n",
       "          1.77970378e+00,  1.85041754e+00,  1.95860141e+00,  2.07437496e+00,\n",
       "          2.08249681e+00,  2.19349067e+00,  2.24966646e+00,  2.41237774e+00,\n",
       "          2.67832571e+00,  3.74238177e+00,  4.62255850e+00])),\n",
       " (0.9826803423450908, 6.425573975597237e-17, 0.9769544475442127))"
      ]
     },
     "execution_count": 26,
     "metadata": {},
     "output_type": "execute_result"
    },
    {
     "data": {
      "image/png": "[encoded data removed]",
      "text/plain": [
       "<Figure size 576x576 with 1 Axes>"
      ]
     },
     "metadata": {
      "needs_background": "light"
     },
     "output_type": "display_data"
    }
   ],
   "source": [
    "plt.figure(figsize=(8, 8))\n",
    "stats.probplot(\n",
    "        df2['ret_norm'], \n",
    "        dist='norm', \n",
    "        plot=plt\n",
    ")\n",
    "\n",
    "# probplot如何只看图像不看数据"
   ]
  },
  {
   "cell_type": "code",
   "execution_count": 27,
   "metadata": {
    "ExecuteTime": {
     "end_time": "2018-12-22T19:17:17.503909Z",
     "start_time": "2018-12-22T19:17:17.494020Z"
    }
   },
   "outputs": [
    {
     "name": "stdout",
     "output_type": "stream",
     "text": [
      "NormaltestResult(statistic=43.3943514461366, pvalue=3.776037603818938e-10)\n",
      "(0.9582958817481995, 1.224788270803856e-09)\n"
     ]
    }
   ],
   "source": [
    "# 正态分布检验\n",
    "print(stats.normaltest(df2['ret_norm']))\n",
    "print(stats.shapiro(df2['ret_norm']))"
   ]
  },
  {
   "cell_type": "markdown",
   "metadata": {},
   "source": [
    "结论：p值太小，不符合正态分布的特点"
   ]
  },
  {
   "cell_type": "markdown",
   "metadata": {},
   "source": [
    "### 计算累计收益率\n",
    "- Series.apply(func)\n",
    "        对每个元素调用func，返回另一个Series\n",
    "- Series.cumsum()  累加\n",
    "$$y_1=x_1$$\n",
    "$$y_2=x_1+x_2$$\n",
    "$$y_3=x_1+x_2+x_3$$\n",
    "$$y_4=x_1+x_2+x_3+x_4$$"
   ]
  },
  {
   "cell_type": "code",
   "execution_count": 30,
   "metadata": {
    "ExecuteTime": {
     "end_time": "2018-12-22T19:38:02.991663Z",
     "start_time": "2018-12-22T19:38:02.987695Z"
    }
   },
   "outputs": [],
   "source": [
    "import datetime\n",
    "def int2datetime(date):\n",
    "    df3 = datetime.datetime.strptime(str(date), '%Y-%m-%d')\n",
    "    return(df3)"
   ]
  },
  {
   "cell_type": "code",
   "execution_count": 31,
   "metadata": {
    "ExecuteTime": {
     "end_time": "2018-12-22T19:38:05.019818Z",
     "start_time": "2018-12-22T19:38:04.856611Z"
    }
   },
   "outputs": [
    {
     "data": {
      "text/plain": [
       "[<matplotlib.lines.Line2D at 0x12ba27954a8>]"
      ]
     },
     "execution_count": 31,
     "metadata": {},
     "output_type": "execute_result"
    },
    {
     "data": {
      "image/png": "[encoded data removed]",
      "text/plain": [
       "<Figure size 864x576 with 1 Axes>"
      ]
     },
     "metadata": {
      "needs_background": "light"
     },
     "output_type": "display_data"
    }
   ],
   "source": [
    "# 计算累计收益率 cumsum, cumprod\n",
    "cum_ret = df2['ret'].cumsum().apply(np.exp)\n",
    "x_axis = pd.Series(cum_ret.index).apply(int2datetime)\n",
    "\n",
    "plt.figure(figsize=(12,8))\n",
    "plt.plot(x_axis, cum_ret)"
   ]
  },
  {
   "cell_type": "markdown",
   "metadata": {},
   "source": [
    "## 金融数据分析中的随机数\n",
    "- np.random.random()\n",
    "- np.random.normal()\n",
    "- np.random.randint()\n",
    "\n",
    "\n",
    "- scipy.stats.normaltest()\n",
    "- scipy.stats.kstest()"
   ]
  },
  {
   "cell_type": "code",
   "execution_count": null,
   "metadata": {},
   "outputs": [],
   "source": [
    "import numpy as np\n",
    "import math"
   ]
  },
  {
   "cell_type": "code",
   "execution_count": 32,
   "metadata": {
    "ExecuteTime": {
     "end_time": "2018-12-22T20:04:58.819189Z",
     "start_time": "2018-12-22T20:04:58.596740Z"
    }
   },
   "outputs": [
    {
     "data": {
      "text/plain": [
       "<matplotlib.axes._subplots.AxesSubplot at 0x12ba2a4a390>"
      ]
     },
     "execution_count": 32,
     "metadata": {},
     "output_type": "execute_result"
    },
    {
     "data": {
      "image/png": "[encoded data removed]",
      "text/plain": [
       "<Figure size 432x288 with 1 Axes>"
      ]
     },
     "metadata": {
      "needs_background": "light"
     },
     "output_type": "display_data"
    }
   ],
   "source": [
    "# 一维随机数组，【0,1】间的均匀分布\n",
    "sim_data = np.random.random(1000000)\n",
    "pd.Series(sim_data).hist(bins=100)"
   ]
  },
  {
   "cell_type": "code",
   "execution_count": 33,
   "metadata": {
    "ExecuteTime": {
     "end_time": "2018-12-22T20:07:38.351282Z",
     "start_time": "2018-12-22T20:07:38.110691Z"
    }
   },
   "outputs": [
    {
     "data": {
      "text/plain": [
       "<matplotlib.axes._subplots.AxesSubplot at 0x12ba283b048>"
      ]
     },
     "execution_count": 33,
     "metadata": {},
     "output_type": "execute_result"
    },
    {
     "data": {
      "image/png": "[encoded data removed]",
      "text/plain": [
       "<Figure size 432x288 with 1 Axes>"
      ]
     },
     "metadata": {
      "needs_background": "light"
     },
     "output_type": "display_data"
    }
   ],
   "source": [
    "# 一维随机数组，【0,1】间的正态分布\n",
    "sim_data = np.random.normal(0,1,1000000)\n",
    "pd.Series(sim_data).hist(bins=100)"
   ]
  },
  {
   "cell_type": "code",
   "execution_count": 34,
   "metadata": {
    "ExecuteTime": {
     "end_time": "2018-12-22T20:10:09.613534Z",
     "start_time": "2018-12-22T20:10:09.604110Z"
    }
   },
   "outputs": [
    {
     "name": "stdout",
     "output_type": "stream",
     "text": [
      "[[0.34719932 0.24785989 0.4952416  0.97140653 0.59367136]\n",
      " [0.15743814 0.63686865 0.53766874 0.04262801 0.18973498]\n",
      " [0.4076519  0.97981078 0.42524179 0.90740729 0.02609096]\n",
      " [0.22955402 0.04796134 0.71630901 0.43933145 0.25355929]\n",
      " [0.57164663 0.31816479 0.8069597  0.05945555 0.47403904]]\n",
      "KstestResult(statistic=0.4102650172677985, pvalue=0.2827299740956888)\n"
     ]
    }
   ],
   "source": [
    "# 二维随机数组，【0,1】间的均匀分布\n",
    "sim_data=np.random.rand(5,5)\n",
    "print(sim_data)\n",
    "print(stats.kstest(sim_data, 'uniform'))"
   ]
  },
  {
   "cell_type": "code",
   "execution_count": 35,
   "metadata": {
    "ExecuteTime": {
     "end_time": "2018-12-22T20:11:23.579863Z",
     "start_time": "2018-12-22T20:11:23.554276Z"
    }
   },
   "outputs": [
    {
     "ename": "NameError",
     "evalue": "name 'calc_stat' is not defined",
     "output_type": "error",
     "traceback": [
      "\u001b[1;31m---------------------------------------------------------------------------\u001b[0m",
      "\u001b[1;31mNameError\u001b[0m                                 Traceback (most recent call last)",
      "\u001b[1;32m<ipython-input-35-933e809a5b7e>\u001b[0m in \u001b[0;36m<module>\u001b[1;34m()\u001b[0m\n\u001b[0;32m      1\u001b[0m \u001b[1;31m# 产生某一段区间内的随机数，均匀分布\u001b[0m\u001b[1;33m\u001b[0m\u001b[1;33m\u001b[0m\u001b[0m\n\u001b[0;32m      2\u001b[0m \u001b[0msim_data\u001b[0m \u001b[1;33m=\u001b[0m \u001b[0mnp\u001b[0m\u001b[1;33m.\u001b[0m\u001b[0mrandom\u001b[0m\u001b[1;33m.\u001b[0m\u001b[0mrandint\u001b[0m\u001b[1;33m(\u001b[0m\u001b[1;36m10\u001b[0m\u001b[1;33m,\u001b[0m\u001b[1;36m20\u001b[0m\u001b[1;33m,\u001b[0m\u001b[1;36m1000000\u001b[0m\u001b[1;33m)\u001b[0m\u001b[1;33m\u001b[0m\u001b[0m\n\u001b[1;32m----> 3\u001b[1;33m \u001b[0mcalc_stat\u001b[0m\u001b[1;33m(\u001b[0m\u001b[1;34m'uniform sample data'\u001b[0m\u001b[1;33m,\u001b[0m \u001b[0msim_data\u001b[0m\u001b[1;33m)\u001b[0m\u001b[1;33m\u001b[0m\u001b[0m\n\u001b[0m",
      "\u001b[1;31mNameError\u001b[0m: name 'calc_stat' is not defined"
     ]
    }
   ],
   "source": [
    "# 产生某一段区间内的随机数，均匀分布\n",
    "sim_data = np.random.randint(10,20,1000000)\n",
    "calc_stat('uniform sample data', sim_data)"
   ]
  },
  {
   "cell_type": "markdown",
   "metadata": {},
   "source": [
    "### 利用模特卡罗模拟计算"
   ]
  },
  {
   "cell_type": "markdown",
   "metadata": {},
   "source": [
    "扇形面积 = 蓝点/（蓝点+红点）<br>\n",
    "扔的点越多，结果误差越小"
   ]
  },
  {
   "cell_type": "code",
   "execution_count": 50,
   "metadata": {
    "ExecuteTime": {
     "end_time": "2018-12-23T05:16:28.590402Z",
     "start_time": "2018-12-23T05:16:27.679298Z"
    },
    "scrolled": true
   },
   "outputs": [
    {
     "name": "stdout",
     "output_type": "stream",
     "text": [
      "3.288\n"
     ]
    },
    {
     "data": {
      "image/png": "[encoded data removed]",
      "text/plain": [
       "<Figure size 432x288 with 1 Axes>"
      ]
     },
     "metadata": {
      "needs_background": "light"
     },
     "output_type": "display_data"
    }
   ],
   "source": [
    "# 画一个扇形和正方形\n",
    "r = 1.0\n",
    "a, b =(0, 0)\n",
    "\n",
    "# 方法、参数方程\n",
    "theta = np.arange(0, 0.5*np.pi, 0.01)\n",
    "x= a+r*np.cos(theta)\n",
    "y=b+r*np.sin(theta)\n",
    "\n",
    "fig=plt.figure()\n",
    "axes=fig.add_subplot(111)\n",
    "axes.plot(x,y,color='blue')\n",
    "\n",
    "axes.hlines(0,0,1,color='blue')\n",
    "axes.hlines(1,0,1,color='red')\n",
    "axes.vlines(0,0,1,color='blue')\n",
    "axes.vlines(1,0,1,color='red')\n",
    "\n",
    "axes.axis('equal')\n",
    "\n",
    "import math\n",
    "# 随机模拟，点落到扇形内部有效\n",
    "size = 500\n",
    "x = np.random.rand(size)\n",
    "y = np.random.rand(size)\n",
    "\n",
    "count = 0\n",
    "for i in range(size):\n",
    "    temp = math.pow(x[i], 2) + math.pow(y[i], 2)\n",
    "    if temp <= 1:\n",
    "        axes.plot(x[i], y[i], 'bo')\n",
    "        count = count +1\n",
    "    else:\n",
    "        axes.plot(x[i], y[i], 'ro')\n",
    "my_pi = count/size*4\n",
    "print(my_pi)"
   ]
  }
 ],
 "metadata": {
  "hide_input": false,
  "kernelspec": {
   "display_name": "Python 3",
   "language": "python",
   "name": "python3"
  },
  "language_info": {
   "codemirror_mode": {
    "name": "ipython",
    "version": 3
   },
   "file_extension": ".py",
   "mimetype": "text/x-python",
   "name": "python",
   "nbconvert_exporter": "python",
   "pygments_lexer": "ipython3",
   "version": "3.7.0"
  },
  "toc": {
   "base_numbering": 1,
   "nav_menu": {},
   "number_sections": true,
   "sideBar": true,
   "skip_h1_title": false,
   "title_cell": "Table of Contents",
   "title_sidebar": "Contents",
   "toc_cell": false,
   "toc_position": {},
   "toc_section_display": true,
   "toc_window_display": true
  },
  "varInspector": {
   "cols": {
    "lenName": 16,
    "lenType": 16,
    "lenVar": 40
   },
   "kernels_config": {
    "python": {
     "delete_cmd_postfix": "",
     "delete_cmd_prefix": "del ",
     "library": "var_list.py",
     "varRefreshCmd": "print(var_dic_list())"
    },
    "r": {
     "delete_cmd_postfix": ") ",
     "delete_cmd_prefix": "rm(",
     "library": "var_list.r",
     "varRefreshCmd": "cat(var_dic_list()) "
    }
   },
   "types_to_exclude": [
    "module",
    "function",
    "builtin_function_or_method",
    "instance",
    "_Feature"
   ],
   "window_display": false
  }
 },
 "nbformat": 4,
 "nbformat_minor": 2
}

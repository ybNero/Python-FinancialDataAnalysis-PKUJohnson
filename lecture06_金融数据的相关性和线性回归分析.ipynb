{
 "cells": [
  {
   "cell_type": "markdown",
   "metadata": {},
   "source": [
    "# lecture06_金融数据的相关性和线性回归分析\n",
    "b站链接：https://www.bilibili.com/video/av20727707/?p=8\n",
    "\n",
    "本节重点：\n",
    "- 相关性分析（不同标的、指数之间）\n",
    "- 线性回归分析（一元、多元）\n",
    "- beta值计算（CAPM模型）"
   ]
  },
  {
   "cell_type": "markdown",
   "metadata": {},
   "source": [
    "## 相关性分析\n",
    "`相关性分析（correlation analysis）`是研究现象之间是否存在某种依存关系，并对具体有依存关系的现象探讨其相关方向以及相关程度，是研究随机变量之间的相关关系的一种统计方法。\n",
    "\n",
    "$$R = \\frac{\\sum({X_i} - \\overline{X})({Y_i} - \\overline{Y})}{\\sqrt{\\sum({X_i} - \\overline{X})^2 \\sum({Y_i} - \\overline{Y})^2}}$$\n",
    "$$相关系数$$\n",
    "\n",
    "`散点图`"
   ]
  },
  {
   "cell_type": "markdown",
   "metadata": {},
   "source": [
    "### 数据选择：标的每日的对数收益率"
   ]
  },
  {
   "cell_type": "code",
   "execution_count": null,
   "metadata": {},
   "outputs": [],
   "source": [
    "import numpy as np\n",
    "\n",
    "start_date = '2017-01-01'\n",
    "end_date = '2017-12-31'\n",
    "\n",
    "def get_daily_return(api, symbol, start_date, end_date):\n",
    "    # 查询日收盘价信息\n",
    "    df, msg = api.daily(\n",
    "        symbol=symbol,\n",
    "        start_date=start_date,\n",
    "        end_date=end_date,\n",
    "        fields='close',\n",
    "        freq='id',\n",
    "        adjust_code='post'\n",
    "    )\n",
    "    \n",
    "    df.set_index('trade_date', inplace=True)\n",
    "    \n",
    "    # 计算每日的对数收益率\n",
    "    change = df['close'] / df['close'].shift(1)\n",
    "    df['ret'] = np.log(change)\n",
    "    \n",
    "    # 删除第一个NA值\n",
    "    df.dropna(inplace=True)\n",
    "    return df['ret']"
   ]
  },
  {
   "cell_type": "markdown",
   "metadata": {},
   "source": [
    "### 指数之间的相关性（1）\n",
    "分析上证50与50ETF的相关性"
   ]
  },
  {
   "cell_type": "code",
   "execution_count": null,
   "metadata": {},
   "outputs": [],
   "source": [
    "\n",
    "\n",
    "df_etf = get_daily_return(api, '500050.SH', start_date, end_date)\n",
    "df_index = get_daily_return(api, '000016.SH', start_date, end_date)\n",
    "\n",
    "np.corrcoef(df_etf, df_index)\n",
    "\n",
    "\n",
    "import matplotlib.pyplot as plt\n",
    "\n",
    "plt.scatter(df_etf, df_index)\n",
    "\n",
    "# 输出相关系数矩阵"
   ]
  },
  {
   "cell_type": "markdown",
   "metadata": {},
   "source": [
    "### 指数之间的相关性（2）\n",
    "分析沪深300与300ETF的相关性"
   ]
  },
  {
   "cell_type": "code",
   "execution_count": null,
   "metadata": {},
   "outputs": [],
   "source": [
    "df_etf = get_daily_return(api, '510300.SH', start_date, end_date)\n",
    "df_index = get_daily_return(api, '000300.SH', start_date, end_date)\n",
    "\n",
    "np.corrcoef(df_etf, df_index)\n",
    "\n",
    "\n",
    "import matplotlib.pyplot as plt\n",
    "\n",
    "plt.scatter(df_etf, df_index)\n",
    "\n",
    "# 输出相关系数矩阵"
   ]
  },
  {
   "cell_type": "markdown",
   "metadata": {},
   "source": [
    "### 指数之间的相关性（3）\n",
    "分析上证50与沪深300的相关性"
   ]
  },
  {
   "cell_type": "markdown",
   "metadata": {},
   "source": [
    "### 股票之间的相关性\n",
    "分析贵州茅台（600519）与五粮液（000858）的相关性"
   ]
  },
  {
   "cell_type": "code",
   "execution_count": null,
   "metadata": {},
   "outputs": [],
   "source": []
  },
  {
   "cell_type": "code",
   "execution_count": null,
   "metadata": {},
   "outputs": [],
   "source": []
  },
  {
   "cell_type": "markdown",
   "metadata": {},
   "source": [
    "## 一元线性回归\n",
    "linear regression<br/>\n",
    "$y = ax + b$<br>\n",
    "search for $(a,b)$ to minimize estimation error"
   ]
  },
  {
   "cell_type": "code",
   "execution_count": null,
   "metadata": {},
   "outputs": [],
   "source": [
    "import sicpy.stats\n",
    "result = sicpy.stats.linregress(df_stock1, df_stock2)\n",
    "print(result)"
   ]
  },
  {
   "cell_type": "code",
   "execution_count": null,
   "metadata": {},
   "outputs": [],
   "source": [
    "x = np.arrange(-0.07, 0.07, 0.001)\n",
    "y = x * result.slope + result.intercept  # result是线性回归的结果，slope斜率，intercept截距\n",
    "\n",
    "plt.scatter(df_stock1, df_stock2)\n",
    "plt.plot(x,y, color='r')"
   ]
  },
  {
   "cell_type": "markdown",
   "metadata": {},
   "source": [
    "## 多元线性回归\n",
    "$Y=\\beta_0 + \\beta_1X_1 + \\beta_2X_2+......+\\beta_mX_m+\\varepsilon$"
   ]
  },
  {
   "cell_type": "code",
   "execution_count": null,
   "metadata": {},
   "outputs": [],
   "source": [
    "# 沪深300，中证500，中证800\n",
    "idx_hs500 = get_daily_return(api, '000300', start_date, end_date)\n",
    "idx_zz500 = get_daily_return(api, '000905', start_date, end_date)\n",
    "idx_zz800 = get_daily_return(api, '000906', start_date, end_date)"
   ]
  },
  {
   "cell_type": "code",
   "execution_count": null,
   "metadata": {},
   "outputs": [],
   "source": [
    "fig = plt.figure()\n",
    "ax = fig.add_subplot(111, projection='3d')\n",
    "ax.scatter(idx_hs300, idx_zz500, idx_zz800)"
   ]
  },
  {
   "cell_type": "markdown",
   "metadata": {},
   "source": [
    "### 最小二乘法OLS\n",
    "F-Test：显著\n",
    "\n",
    "参数： 显著"
   ]
  },
  {
   "cell_type": "code",
   "execution_count": null,
   "metadata": {},
   "outputs": [],
   "source": [
    "import statsmodels.api as sm\n",
    "import pandas as pd"
   ]
  },
  {
   "cell_type": "code",
   "execution_count": null,
   "metadata": {},
   "outputs": [],
   "source": [
    "x =pd.concat([idx_hs300, idx_zz500, idx_zz800], axis=1)\n",
    "x.columns = ['idx_hs300', 'idx_zz500']\n",
    "\n",
    "x = sm.add_constant(x)\n",
    "model = sm.OLS(idx_zz800,x)\n",
    "results = model.fit()\n",
    "results.summary()"
   ]
  },
  {
   "cell_type": "markdown",
   "metadata": {},
   "source": [
    "### beta系数\n",
    "贝塔系数（Beta Coefficient）是一种评估证券系统性风险的工具，用以度量一种证券或者一个投资证券组合相对总体市场的波动性。\n",
    "$$\\beta_a=\\frac{Cov(r_a,r_m)}{\\sigma^2_m}【公式法】$$\n",
    "$$R=\\alpha+\\beta R_m+\\epsilon【CAPM模型，回归法】$$\n"
   ]
  },
  {
   "cell_type": "markdown",
   "metadata": {},
   "source": [
    "#### beta系数的计算\n",
    "- beta系数的定义\n",
    "- $return of stock - \\beta*(return of market)+\\alpha$\n",
    "- CAPM model\n",
    "- beta系数计算更适合用月度收益数据"
   ]
  },
  {
   "cell_type": "code",
   "execution_count": null,
   "metadata": {},
   "outputs": [],
   "source": [
    "def get_monthly_return(api, symbol, start_date, end_date):\n",
    "    # 查询月收盘价信息\n",
    "    df, msg = api.daily(\n",
    "        symbol=symbol,\n",
    "        start_date=start_date,\n",
    "        end_date=end_date,\n",
    "        fields='close',\n",
    "        freq-'1m',\n",
    "        adjust_mode='post'\n",
    "    )\n",
    "    df.set_index('trade_date', inplace=True)\n",
    "    \n",
    "    # 计算每月的收益率\n",
    "    df['ret'] = df['close'] / df['close'].shift(1)-1\n",
    "    \n",
    "    # 删除第一个NA值\n",
    "    df.dropna(inplace=True)\n",
    "return df['ret']"
   ]
  },
  {
   "cell_type": "code",
   "execution_count": null,
   "metadata": {},
   "outputs": [],
   "source": [
    "# 用线性回归计算beta\n",
    "def calc_beta(stock, index, start_date, end_date):\n",
    "    df_stock = get_monthly_return(api, stock, start_date, end_date)\n",
    "    df_index = get_monthly_return(api, index, start_date, end_date)\n",
    "    \n",
    "    # linear regression\n",
    "    import scipy.stats\n",
    "    result = scipy.stats.linregress(df_stock, df_index)\n",
    "    print('beta of %s vs %s is %.3f' %(stock, index, result.slope))"
   ]
  },
  {
   "cell_type": "markdown",
   "metadata": {},
   "source": [
    "使用线性回归计算beta的参数选择：\n",
    "1. 使用月度收益率的数据；\n",
    "2. 有研究表明，周期最好是4-6年；"
   ]
  },
  {
   "cell_type": "markdown",
   "metadata": {},
   "source": [
    "#### 几个例子比较"
   ]
  },
  {
   "cell_type": "code",
   "execution_count": null,
   "metadata": {},
   "outputs": [],
   "source": [
    "start_date = '2013-01-01'\n",
    "end_date = '2017-12-31'"
   ]
  },
  {
   "cell_type": "code",
   "execution_count": null,
   "metadata": {},
   "outputs": [],
   "source": [
    "# 贵州茅台相对于沪深300的beta （取一个周期内的）\n",
    "calc_beta('600519', '000300', start_date, end_date)"
   ]
  },
  {
   "cell_type": "code",
   "execution_count": null,
   "metadata": {},
   "outputs": [],
   "source": [
    "# 乐视网相对于上证50的beta\n",
    "calc_beta('300104', '000016', start_date, end_date)"
   ]
  },
  {
   "cell_type": "code",
   "execution_count": null,
   "metadata": {},
   "outputs": [],
   "source": []
  },
  {
   "cell_type": "code",
   "execution_count": null,
   "metadata": {},
   "outputs": [],
   "source": []
  }
 ],
 "metadata": {
  "kernelspec": {
   "display_name": "Python 3",
   "language": "python",
   "name": "python3"
  },
  "language_info": {
   "codemirror_mode": {
    "name": "ipython",
    "version": 3
   },
   "file_extension": ".py",
   "mimetype": "text/x-python",
   "name": "python",
   "nbconvert_exporter": "python",
   "pygments_lexer": "ipython3",
   "version": "3.7.0"
  },
  "toc": {
   "base_numbering": 1,
   "nav_menu": {},
   "number_sections": true,
   "sideBar": true,
   "skip_h1_title": false,
   "title_cell": "Table of Contents",
   "title_sidebar": "Contents",
   "toc_cell": false,
   "toc_position": {},
   "toc_section_display": true,
   "toc_window_display": true
  }
 },
 "nbformat": 4,
 "nbformat_minor": 2
}
